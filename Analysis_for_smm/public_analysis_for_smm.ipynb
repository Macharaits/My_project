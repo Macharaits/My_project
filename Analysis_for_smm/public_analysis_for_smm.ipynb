{
 "cells": [
  {
   "cell_type": "markdown",
   "id": "f8c784b6",
   "metadata": {},
   "source": [
    "# Анализ паблика Вконтакте  для SMM-отдела"
   ]
  },
  {
   "cell_type": "markdown",
   "id": "e46f03e6",
   "metadata": {},
   "source": [
    "## 1. Открытие файлов с данными, изучение информации, коррекция данных"
   ]
  },
  {
   "cell_type": "code",
   "execution_count": 60,
   "id": "2801c758",
   "metadata": {},
   "outputs": [],
   "source": [
    "import math\n",
    "import requests\n",
    "import numpy as np\n",
    "import pandas as pd\n",
    "import plotly.graph_objs as go\n",
    "\n",
    "# Импорт библиотеки DateTime\n",
    "from datetime import datetime"
   ]
  },
  {
   "cell_type": "code",
   "execution_count": 19,
   "id": "eafc929f",
   "metadata": {},
   "outputs": [],
   "source": [
    "# создадим функцию, чтобы отправлять JSON-запросы к API VK\n",
    "def getjson(url):\n",
    "    response = requests.get(url)\n",
    "    response = response.json()\n",
    "    return response"
   ]
  },
  {
   "cell_type": "code",
   "execution_count": 20,
   "id": "e992c108",
   "metadata": {},
   "outputs": [
    {
     "name": "stdout",
     "output_type": "stream",
     "text": [
      "{'error': {'error_code': 5, 'error_msg': 'User authorization failed: access_token was given to another ip address.', 'request_params': [{'key': 'v', 'value': '5.92'}, {'key': 'method', 'value': 'account.getProfileInfo'}, {'key': 'oauth', 'value': '1'}]}}\n"
     ]
    }
   ],
   "source": [
    "vk_token = # запрещено выкладывать\n",
    "url = # запрещено выкладывать\n",
    "response = getjson(url)\n",
    "print(response)"
   ]
  },
  {
   "cell_type": "markdown",
   "id": "27f6eca4",
   "metadata": {},
   "source": [
    "Несколько недель назад S запустили рекламу с Сергеем Буруновым, это впервые для S привлекать звезду. Интересно оценить эффективность рекламы. В группе в ВК, каждый день по 2-3 поста. Возьмем данные c начала ноября"
   ]
  },
  {
   "cell_type": "code",
   "execution_count": 21,
   "id": "b7f9b81b",
   "metadata": {},
   "outputs": [],
   "source": [
    "# получаем последнюю запись из паблика Skillbox Вконтакте\n",
    "url = 'https://api.vk.com/method/wall.get?access_token=' + str(vk_token) + '&owner_id=-66669811&count=1&v=5.92'\n",
    "response = getjson(url)"
   ]
  },
  {
   "cell_type": "code",
   "execution_count": 22,
   "id": "66cd1d2e",
   "metadata": {},
   "outputs": [
    {
     "name": "stdout",
     "output_type": "stream",
     "text": [
      "{'error': {'error_code': 5, 'error_msg': 'User authorization failed: access_token was given to another ip address.', 'request_params': [{'key': 'owner_id', 'value': '-66669811'}, {'key': 'offset', 'value': '1'}, {'key': 'count', 'value': '33'}, {'key': 'v', 'value': '5.92'}, {'key': 'method', 'value': 'wall.get'}, {'key': 'oauth', 'value': '1'}]}}\n"
     ]
    }
   ],
   "source": [
    "# сдвигаем запрос и получаем предпоследнюю запись из паблика Skillbox Вконтакте\n",
    "url = 'https://api.vk.com/method/wall.get?access_token=' + str(vk_token) + '&owner_id=-66669811&offset=1&count=33&v=5.92'\n",
    "response2 = getjson(url)\n",
    "print(response2)"
   ]
  },
  {
   "cell_type": "code",
   "execution_count": 32,
   "id": "0b6a6f7b",
   "metadata": {},
   "outputs": [],
   "source": [
    "# преобразуем вложенный файл JSON в датафрейме за выбранный период c помощью pd.json_normalize\n",
    "#df = pd.json_normalize(response2['response']['items'])\n",
    "#df.head()"
   ]
  },
  {
   "cell_type": "code",
   "execution_count": 33,
   "id": "e68cd13f",
   "metadata": {},
   "outputs": [],
   "source": [
    "# сохраним полученный датафрейм, чтобы не было необходимости использовать токен для обращения к анализируемому периоду\n",
    "# df.to_csv('vk_group_skillbox.csv')"
   ]
  },
  {
   "cell_type": "code",
   "execution_count": 39,
   "id": "6f10f72b",
   "metadata": {},
   "outputs": [],
   "source": [
    "# загрузим содержимое файла vk_group_skillbox.csv\n",
    "data = pd.read_csv('vk_group_skillbox.csv')"
   ]
  },
  {
   "cell_type": "markdown",
   "id": "bd0d9187",
   "metadata": {},
   "source": [
    "### Предобработка данных"
   ]
  },
  {
   "cell_type": "code",
   "execution_count": 44,
   "id": "8724a062",
   "metadata": {},
   "outputs": [
    {
     "data": {
      "text/html": [
       "<div>\n",
       "<style scoped>\n",
       "    .dataframe tbody tr th:only-of-type {\n",
       "        vertical-align: middle;\n",
       "    }\n",
       "\n",
       "    .dataframe tbody tr th {\n",
       "        vertical-align: top;\n",
       "    }\n",
       "\n",
       "    .dataframe thead th {\n",
       "        text-align: right;\n",
       "    }\n",
       "</style>\n",
       "<table border=\"1\" class=\"dataframe\">\n",
       "  <thead>\n",
       "    <tr style=\"text-align: right;\">\n",
       "      <th></th>\n",
       "      <th>date</th>\n",
       "      <th>text</th>\n",
       "      <th>comments.count</th>\n",
       "      <th>likes.count</th>\n",
       "      <th>reposts.count</th>\n",
       "      <th>views.count</th>\n",
       "    </tr>\n",
       "  </thead>\n",
       "  <tbody>\n",
       "    <tr>\n",
       "      <th>0</th>\n",
       "      <td>1666606890</td>\n",
       "      <td>Однажды Александра обнаружила, что звуки гуслей убаюкивают ее детей.\\n\\nОткрытие заставило ее придумать отдельное музыкальное направление — гуслитерапию. После записи дебютного альбома и курса Skillbox Алек...</td>\n",
       "      <td>3</td>\n",
       "      <td>18</td>\n",
       "      <td>5</td>\n",
       "      <td>12088</td>\n",
       "    </tr>\n",
       "    <tr>\n",
       "      <th>1</th>\n",
       "      <td>1666596169</td>\n",
       "      <td>Расписание новых бесплатных вебинаров на конец октября.\\n\\nСемь актуальных тем, разбору которых посвятим три дня, — выбирайте, что интересно вам, и регистрируйтесь.\\n\\nСсылку на трансляцию интенсива обычно ...</td>\n",
       "      <td>0</td>\n",
       "      <td>10</td>\n",
       "      <td>15</td>\n",
       "      <td>11747</td>\n",
       "    </tr>\n",
       "    <tr>\n",
       "      <th>2</th>\n",
       "      <td>1666348591</td>\n",
       "      <td>Тимур Татлыев дважды менял работу из-за санкций.\\n\\nВ 2014 году его сократили, а после событий 24 февраля Тимур сам просчитал последствия и не стал ждать — пошел учиться и вовремя нашел новое место.\\n\\nПоче...</td>\n",
       "      <td>0</td>\n",
       "      <td>36</td>\n",
       "      <td>18</td>\n",
       "      <td>42344</td>\n",
       "    </tr>\n",
       "    <tr>\n",
       "      <th>3</th>\n",
       "      <td>1666340424</td>\n",
       "      <td>Что происходит в игровой индустрии? Какие специалисты наиболее востребованы? И как вести коммуникацию с международными издателями?\\n23 октября в 14:00 мы проведем онлайн-лекцию о ситуации на мировом рынке и...</td>\n",
       "      <td>0</td>\n",
       "      <td>18</td>\n",
       "      <td>8</td>\n",
       "      <td>19074</td>\n",
       "    </tr>\n",
       "    <tr>\n",
       "      <th>4</th>\n",
       "      <td>1666279077</td>\n",
       "      <td>Ловим волну Hate.fm!\\n\\nВ рамках спецпроекта с Sostav мы запустили «Азбуку хейта» — словарь не самых позитивных комментариев от клиента.\\n\\nСобрали несколько терминов из азбуки в карточках — читайте! И дели...</td>\n",
       "      <td>1</td>\n",
       "      <td>32</td>\n",
       "      <td>9</td>\n",
       "      <td>21069</td>\n",
       "    </tr>\n",
       "  </tbody>\n",
       "</table>\n",
       "</div>"
      ],
      "text/plain": [
       "         date  \\\n",
       "0  1666606890   \n",
       "1  1666596169   \n",
       "2  1666348591   \n",
       "3  1666340424   \n",
       "4  1666279077   \n",
       "\n",
       "                                                                                                                                                                                                                text  \\\n",
       "0  Однажды Александра обнаружила, что звуки гуслей убаюкивают ее детей.\\n\\nОткрытие заставило ее придумать отдельное музыкальное направление — гуслитерапию. После записи дебютного альбома и курса Skillbox Алек...   \n",
       "1  Расписание новых бесплатных вебинаров на конец октября.\\n\\nСемь актуальных тем, разбору которых посвятим три дня, — выбирайте, что интересно вам, и регистрируйтесь.\\n\\nСсылку на трансляцию интенсива обычно ...   \n",
       "2  Тимур Татлыев дважды менял работу из-за санкций.\\n\\nВ 2014 году его сократили, а после событий 24 февраля Тимур сам просчитал последствия и не стал ждать — пошел учиться и вовремя нашел новое место.\\n\\nПоче...   \n",
       "3  Что происходит в игровой индустрии? Какие специалисты наиболее востребованы? И как вести коммуникацию с международными издателями?\\n23 октября в 14:00 мы проведем онлайн-лекцию о ситуации на мировом рынке и...   \n",
       "4  Ловим волну Hate.fm!\\n\\nВ рамках спецпроекта с Sostav мы запустили «Азбуку хейта» — словарь не самых позитивных комментариев от клиента.\\n\\nСобрали несколько терминов из азбуки в карточках — читайте! И дели...   \n",
       "\n",
       "   comments.count  likes.count  reposts.count  views.count  \n",
       "0               3           18              5        12088  \n",
       "1               0           10             15        11747  \n",
       "2               0           36             18        42344  \n",
       "3               0           18              8        19074  \n",
       "4               1           32              9        21069  "
      ]
     },
     "execution_count": 44,
     "metadata": {},
     "output_type": "execute_result"
    }
   ],
   "source": [
    "# создадим новый датафрейме, оставив только те столбцы, которые актуальны\n",
    "pd.options.display.max_colwidth = 210\n",
    "df= data[['date', 'text', 'comments.count', 'likes.count','reposts.count','views.count']]\n",
    "df.head()"
   ]
  },
  {
   "cell_type": "code",
   "execution_count": 45,
   "id": "c161ac64",
   "metadata": {},
   "outputs": [],
   "source": [
    "date = 1566840605\n",
    "# преобразуем дату и время с помощью вызова функций и класса datetime\n",
    "def date(date):\n",
    "    return (datetime.fromtimestamp(date) - timedelta(hours=0)).strftime('%Y-%m-%d %H:%M:%S')\n",
    "\n",
    "# отдельно найдем количество часов для удобства расчетов для  дальнейшего анализа\n",
    "def hour(date):\n",
    "    return (datetime.fromtimestamp(date) - timedelta(hours=0)).strftime('%H')"
   ]
  },
  {
   "cell_type": "code",
   "execution_count": 51,
   "id": "21b44f47",
   "metadata": {},
   "outputs": [
    {
     "data": {
      "text/html": [
       "<div>\n",
       "<style scoped>\n",
       "    .dataframe tbody tr th:only-of-type {\n",
       "        vertical-align: middle;\n",
       "    }\n",
       "\n",
       "    .dataframe tbody tr th {\n",
       "        vertical-align: top;\n",
       "    }\n",
       "\n",
       "    .dataframe thead th {\n",
       "        text-align: right;\n",
       "    }\n",
       "</style>\n",
       "<table border=\"1\" class=\"dataframe\">\n",
       "  <thead>\n",
       "    <tr style=\"text-align: right;\">\n",
       "      <th></th>\n",
       "      <th>date</th>\n",
       "      <th>text</th>\n",
       "      <th>comments.count</th>\n",
       "      <th>likes.count</th>\n",
       "      <th>reposts.count</th>\n",
       "      <th>views.count</th>\n",
       "      <th>dates</th>\n",
       "      <th>hour</th>\n",
       "    </tr>\n",
       "  </thead>\n",
       "  <tbody>\n",
       "    <tr>\n",
       "      <th>0</th>\n",
       "      <td>1666606890</td>\n",
       "      <td>Однажды Александра обнаружила, что звуки гуслей убаюкивают ее детей.\\n\\nОткрытие заставило ее придумать отдельное музыкальное направление — гуслитерапию. После записи дебютного альбома и курса Skillbox Алек...</td>\n",
       "      <td>3</td>\n",
       "      <td>18</td>\n",
       "      <td>5</td>\n",
       "      <td>12088</td>\n",
       "      <td>2022-10-24 17:21:30</td>\n",
       "      <td>17</td>\n",
       "    </tr>\n",
       "    <tr>\n",
       "      <th>1</th>\n",
       "      <td>1666596169</td>\n",
       "      <td>Расписание новых бесплатных вебинаров на конец октября.\\n\\nСемь актуальных тем, разбору которых посвятим три дня, — выбирайте, что интересно вам, и регистрируйтесь.\\n\\nСсылку на трансляцию интенсива обычно ...</td>\n",
       "      <td>0</td>\n",
       "      <td>10</td>\n",
       "      <td>15</td>\n",
       "      <td>11747</td>\n",
       "      <td>2022-10-24 14:22:49</td>\n",
       "      <td>14</td>\n",
       "    </tr>\n",
       "    <tr>\n",
       "      <th>2</th>\n",
       "      <td>1666348591</td>\n",
       "      <td>Тимур Татлыев дважды менял работу из-за санкций.\\n\\nВ 2014 году его сократили, а после событий 24 февраля Тимур сам просчитал последствия и не стал ждать — пошел учиться и вовремя нашел новое место.\\n\\nПоче...</td>\n",
       "      <td>0</td>\n",
       "      <td>36</td>\n",
       "      <td>18</td>\n",
       "      <td>42344</td>\n",
       "      <td>2022-10-21 17:36:31</td>\n",
       "      <td>17</td>\n",
       "    </tr>\n",
       "    <tr>\n",
       "      <th>3</th>\n",
       "      <td>1666340424</td>\n",
       "      <td>Что происходит в игровой индустрии? Какие специалисты наиболее востребованы? И как вести коммуникацию с международными издателями?\\n23 октября в 14:00 мы проведем онлайн-лекцию о ситуации на мировом рынке и...</td>\n",
       "      <td>0</td>\n",
       "      <td>18</td>\n",
       "      <td>8</td>\n",
       "      <td>19074</td>\n",
       "      <td>2022-10-21 15:20:24</td>\n",
       "      <td>15</td>\n",
       "    </tr>\n",
       "    <tr>\n",
       "      <th>4</th>\n",
       "      <td>1666279077</td>\n",
       "      <td>Ловим волну Hate.fm!\\n\\nВ рамках спецпроекта с Sostav мы запустили «Азбуку хейта» — словарь не самых позитивных комментариев от клиента.\\n\\nСобрали несколько терминов из азбуки в карточках — читайте! И дели...</td>\n",
       "      <td>1</td>\n",
       "      <td>32</td>\n",
       "      <td>9</td>\n",
       "      <td>21069</td>\n",
       "      <td>2022-10-20 22:17:57</td>\n",
       "      <td>22</td>\n",
       "    </tr>\n",
       "  </tbody>\n",
       "</table>\n",
       "</div>"
      ],
      "text/plain": [
       "         date  \\\n",
       "0  1666606890   \n",
       "1  1666596169   \n",
       "2  1666348591   \n",
       "3  1666340424   \n",
       "4  1666279077   \n",
       "\n",
       "                                                                                                                                                                                                                text  \\\n",
       "0  Однажды Александра обнаружила, что звуки гуслей убаюкивают ее детей.\\n\\nОткрытие заставило ее придумать отдельное музыкальное направление — гуслитерапию. После записи дебютного альбома и курса Skillbox Алек...   \n",
       "1  Расписание новых бесплатных вебинаров на конец октября.\\n\\nСемь актуальных тем, разбору которых посвятим три дня, — выбирайте, что интересно вам, и регистрируйтесь.\\n\\nСсылку на трансляцию интенсива обычно ...   \n",
       "2  Тимур Татлыев дважды менял работу из-за санкций.\\n\\nВ 2014 году его сократили, а после событий 24 февраля Тимур сам просчитал последствия и не стал ждать — пошел учиться и вовремя нашел новое место.\\n\\nПоче...   \n",
       "3  Что происходит в игровой индустрии? Какие специалисты наиболее востребованы? И как вести коммуникацию с международными издателями?\\n23 октября в 14:00 мы проведем онлайн-лекцию о ситуации на мировом рынке и...   \n",
       "4  Ловим волну Hate.fm!\\n\\nВ рамках спецпроекта с Sostav мы запустили «Азбуку хейта» — словарь не самых позитивных комментариев от клиента.\\n\\nСобрали несколько терминов из азбуки в карточках — читайте! И дели...   \n",
       "\n",
       "   comments.count  likes.count  reposts.count  views.count  \\\n",
       "0               3           18              5        12088   \n",
       "1               0           10             15        11747   \n",
       "2               0           36             18        42344   \n",
       "3               0           18              8        19074   \n",
       "4               1           32              9        21069   \n",
       "\n",
       "                 dates hour  \n",
       "0  2022-10-24 17:21:30   17  \n",
       "1  2022-10-24 14:22:49   14  \n",
       "2  2022-10-21 17:36:31   17  \n",
       "3  2022-10-21 15:20:24   15  \n",
       "4  2022-10-20 22:17:57   22  "
      ]
     },
     "execution_count": 51,
     "metadata": {},
     "output_type": "execute_result"
    }
   ],
   "source": [
    "# создадим новый датафрейм\n",
    "data_vk = df.copy()\n",
    "\n",
    "# применям метод и меняем столбец с датой\n",
    "data_vk['dates'] = data_vk['date'].apply(date)\n",
    "data_vk['hour'] = data_vk['date'].apply(hour)\n",
    "\n",
    "data_vk.head()"
   ]
  },
  {
   "cell_type": "code",
   "execution_count": 52,
   "id": "555ee19f",
   "metadata": {},
   "outputs": [
    {
     "data": {
      "text/html": [
       "<div>\n",
       "<style scoped>\n",
       "    .dataframe tbody tr th:only-of-type {\n",
       "        vertical-align: middle;\n",
       "    }\n",
       "\n",
       "    .dataframe tbody tr th {\n",
       "        vertical-align: top;\n",
       "    }\n",
       "\n",
       "    .dataframe thead th {\n",
       "        text-align: right;\n",
       "    }\n",
       "</style>\n",
       "<table border=\"1\" class=\"dataframe\">\n",
       "  <thead>\n",
       "    <tr style=\"text-align: right;\">\n",
       "      <th></th>\n",
       "      <th>text</th>\n",
       "      <th>comments_count</th>\n",
       "      <th>likes_count</th>\n",
       "      <th>reposts_count</th>\n",
       "      <th>views_count</th>\n",
       "      <th>dates</th>\n",
       "      <th>hour</th>\n",
       "    </tr>\n",
       "  </thead>\n",
       "  <tbody>\n",
       "    <tr>\n",
       "      <th>0</th>\n",
       "      <td>Однажды Александра обнаружила, что звуки гуслей убаюкивают ее детей.\\n\\nОткрытие заставило ее придумать отдельное музыкальное направление — гуслитерапию. После записи дебютного альбома и курса Skillbox Алек...</td>\n",
       "      <td>3</td>\n",
       "      <td>18</td>\n",
       "      <td>5</td>\n",
       "      <td>12088</td>\n",
       "      <td>2022-10-24 17:21:30</td>\n",
       "      <td>17</td>\n",
       "    </tr>\n",
       "    <tr>\n",
       "      <th>1</th>\n",
       "      <td>Расписание новых бесплатных вебинаров на конец октября.\\n\\nСемь актуальных тем, разбору которых посвятим три дня, — выбирайте, что интересно вам, и регистрируйтесь.\\n\\nСсылку на трансляцию интенсива обычно ...</td>\n",
       "      <td>0</td>\n",
       "      <td>10</td>\n",
       "      <td>15</td>\n",
       "      <td>11747</td>\n",
       "      <td>2022-10-24 14:22:49</td>\n",
       "      <td>14</td>\n",
       "    </tr>\n",
       "    <tr>\n",
       "      <th>2</th>\n",
       "      <td>Тимур Татлыев дважды менял работу из-за санкций.\\n\\nВ 2014 году его сократили, а после событий 24 февраля Тимур сам просчитал последствия и не стал ждать — пошел учиться и вовремя нашел новое место.\\n\\nПоче...</td>\n",
       "      <td>0</td>\n",
       "      <td>36</td>\n",
       "      <td>18</td>\n",
       "      <td>42344</td>\n",
       "      <td>2022-10-21 17:36:31</td>\n",
       "      <td>17</td>\n",
       "    </tr>\n",
       "    <tr>\n",
       "      <th>3</th>\n",
       "      <td>Что происходит в игровой индустрии? Какие специалисты наиболее востребованы? И как вести коммуникацию с международными издателями?\\n23 октября в 14:00 мы проведем онлайн-лекцию о ситуации на мировом рынке и...</td>\n",
       "      <td>0</td>\n",
       "      <td>18</td>\n",
       "      <td>8</td>\n",
       "      <td>19074</td>\n",
       "      <td>2022-10-21 15:20:24</td>\n",
       "      <td>15</td>\n",
       "    </tr>\n",
       "    <tr>\n",
       "      <th>4</th>\n",
       "      <td>Ловим волну Hate.fm!\\n\\nВ рамках спецпроекта с Sostav мы запустили «Азбуку хейта» — словарь не самых позитивных комментариев от клиента.\\n\\nСобрали несколько терминов из азбуки в карточках — читайте! И дели...</td>\n",
       "      <td>1</td>\n",
       "      <td>32</td>\n",
       "      <td>9</td>\n",
       "      <td>21069</td>\n",
       "      <td>2022-10-20 22:17:57</td>\n",
       "      <td>22</td>\n",
       "    </tr>\n",
       "  </tbody>\n",
       "</table>\n",
       "</div>"
      ],
      "text/plain": [
       "                                                                                                                                                                                                                text  \\\n",
       "0  Однажды Александра обнаружила, что звуки гуслей убаюкивают ее детей.\\n\\nОткрытие заставило ее придумать отдельное музыкальное направление — гуслитерапию. После записи дебютного альбома и курса Skillbox Алек...   \n",
       "1  Расписание новых бесплатных вебинаров на конец октября.\\n\\nСемь актуальных тем, разбору которых посвятим три дня, — выбирайте, что интересно вам, и регистрируйтесь.\\n\\nСсылку на трансляцию интенсива обычно ...   \n",
       "2  Тимур Татлыев дважды менял работу из-за санкций.\\n\\nВ 2014 году его сократили, а после событий 24 февраля Тимур сам просчитал последствия и не стал ждать — пошел учиться и вовремя нашел новое место.\\n\\nПоче...   \n",
       "3  Что происходит в игровой индустрии? Какие специалисты наиболее востребованы? И как вести коммуникацию с международными издателями?\\n23 октября в 14:00 мы проведем онлайн-лекцию о ситуации на мировом рынке и...   \n",
       "4  Ловим волну Hate.fm!\\n\\nВ рамках спецпроекта с Sostav мы запустили «Азбуку хейта» — словарь не самых позитивных комментариев от клиента.\\n\\nСобрали несколько терминов из азбуки в карточках — читайте! И дели...   \n",
       "\n",
       "   comments_count  likes_count  reposts_count  views_count  \\\n",
       "0               3           18              5        12088   \n",
       "1               0           10             15        11747   \n",
       "2               0           36             18        42344   \n",
       "3               0           18              8        19074   \n",
       "4               1           32              9        21069   \n",
       "\n",
       "                 dates hour  \n",
       "0  2022-10-24 17:21:30   17  \n",
       "1  2022-10-24 14:22:49   14  \n",
       "2  2022-10-21 17:36:31   17  \n",
       "3  2022-10-21 15:20:24   15  \n",
       "4  2022-10-20 22:17:57   22  "
      ]
     },
     "execution_count": 52,
     "metadata": {},
     "output_type": "execute_result"
    }
   ],
   "source": [
    "# удалим теперь не нужный для нас столбец date\n",
    "\n",
    "del data_vk['date']\n",
    "\n",
    "# переименуем столбцы\n",
    "data_vk = data_vk.rename(columns={'comments.count':'comments_count', 'likes.count':'likes_count', 'reposts.count':'reposts_count', 'views.count':'views_count'})\n",
    "data_vk.head()"
   ]
  },
  {
   "cell_type": "code",
   "execution_count": 53,
   "id": "8cfa260c",
   "metadata": {},
   "outputs": [
    {
     "name": "stdout",
     "output_type": "stream",
     "text": [
      "<class 'pandas.core.frame.DataFrame'>\n",
      "RangeIndex: 33 entries, 0 to 32\n",
      "Data columns (total 7 columns):\n",
      " #   Column          Non-Null Count  Dtype         \n",
      "---  ------          --------------  -----         \n",
      " 0   text            33 non-null     object        \n",
      " 1   comments_count  33 non-null     int64         \n",
      " 2   likes_count     33 non-null     int64         \n",
      " 3   reposts_count   33 non-null     int64         \n",
      " 4   views_count     33 non-null     int64         \n",
      " 5   dates           33 non-null     datetime64[ns]\n",
      " 6   hour            33 non-null     int64         \n",
      "dtypes: datetime64[ns](1), int64(5), object(1)\n",
      "memory usage: 1.9+ KB\n"
     ]
    }
   ],
   "source": [
    "data_vk['dates'] = data_vk['dates'].astype('datetime64[ms]')\n",
    "data_vk['hour'] = data_vk['hour'].astype('int64')\n",
    "data_vk.info()"
   ]
  },
  {
   "cell_type": "markdown",
   "id": "f32ef35f",
   "metadata": {},
   "source": [
    "Вывод:\n",
    "- Из паблика в ВК были извлечены данные о постах за последние 30 дней.\n",
    "- Преобразовали дату и время\n",
    "- Отдельным столбиком вынесено время публикации \n",
    "- Данные с временем были исправлены на удобный тип данных \n",
    "- Пустых значений нет, они автоматически представлены в виде 0"
   ]
  },
  {
   "cell_type": "markdown",
   "id": "7c80cd1f",
   "metadata": {},
   "source": [
    "## 2.Анализ факторов"
   ]
  },
  {
   "cell_type": "markdown",
   "id": "5026d90b",
   "metadata": {},
   "source": [
    "### Гипотеза: Влияет ли время публикации на охват аудитории "
   ]
  },
  {
   "cell_type": "markdown",
   "id": "e0a7aa49",
   "metadata": {},
   "source": [
    "Расмотрим взаимосвязь времени публикации поста и вовлеченности пользователей."
   ]
  },
  {
   "cell_type": "code",
   "execution_count": 56,
   "id": "7bf6ee07",
   "metadata": {},
   "outputs": [
    {
     "name": "stdout",
     "output_type": "stream",
     "text": [
      "0.0\n",
      "32.0\n",
      "13.0\n",
      "26381.0\n",
      "16.0\n"
     ]
    }
   ],
   "source": [
    "# Посмотрим на медианы данных, т.к данные не однородны - это вариант эффективнее \n",
    "print (data_vk['comments_count'].median())\n",
    "print(data_vk['likes_count'].median())\n",
    "print(data_vk['reposts_count'].median())\n",
    "print(data_vk['views_count'].median())\n",
    "print(data_vk['hour'].median())"
   ]
  },
  {
   "cell_type": "code",
   "execution_count": 57,
   "id": "02a47bd5",
   "metadata": {},
   "outputs": [
    {
     "data": {
      "text/plain": [
       "count       33.000000\n",
       "mean     27620.333333\n",
       "std      12740.432674\n",
       "min      11747.000000\n",
       "25%      18706.000000\n",
       "50%      26381.000000\n",
       "75%      35276.000000\n",
       "max      62692.000000\n",
       "Name: views_count, dtype: float64"
      ]
     },
     "execution_count": 57,
     "metadata": {},
     "output_type": "execute_result"
    }
   ],
   "source": [
    "data_vk['views_count'].describe()"
   ]
  },
  {
   "cell_type": "code",
   "execution_count": 59,
   "id": "4a93fad6",
   "metadata": {},
   "outputs": [
    {
     "data": {
      "text/html": [
       "<div>\n",
       "<style scoped>\n",
       "    .dataframe tbody tr th:only-of-type {\n",
       "        vertical-align: middle;\n",
       "    }\n",
       "\n",
       "    .dataframe tbody tr th {\n",
       "        vertical-align: top;\n",
       "    }\n",
       "\n",
       "    .dataframe thead th {\n",
       "        text-align: right;\n",
       "    }\n",
       "</style>\n",
       "<table border=\"1\" class=\"dataframe\">\n",
       "  <thead>\n",
       "    <tr style=\"text-align: right;\">\n",
       "      <th></th>\n",
       "      <th>text</th>\n",
       "      <th>comments_count</th>\n",
       "      <th>likes_count</th>\n",
       "      <th>reposts_count</th>\n",
       "      <th>views_count</th>\n",
       "      <th>dates</th>\n",
       "      <th>hour</th>\n",
       "    </tr>\n",
       "  </thead>\n",
       "  <tbody>\n",
       "    <tr>\n",
       "      <th>6</th>\n",
       "      <td>Хотите лучше понимать своих детей? А научиться совмещать работу и семейную жизнь? \\n\\nТогда 25 октября приглашаем на бесплатную конференцию «Родительство как профессия: что нужно знать и уметь мамам и папам...</td>\n",
       "      <td>1</td>\n",
       "      <td>27</td>\n",
       "      <td>14</td>\n",
       "      <td>62692</td>\n",
       "      <td>2022-10-20 16:13:13</td>\n",
       "      <td>16</td>\n",
       "    </tr>\n",
       "    <tr>\n",
       "      <th>12</th>\n",
       "      <td>Что бы такого поделать на этой неделе — интересного, полезного и желательно бесплатного?\\n\\nУ нас есть примерно девять идей — по одной на каждый из наших бесплатных вебинаров. Выбирайте тему, которая вас ин...</td>\n",
       "      <td>2</td>\n",
       "      <td>39</td>\n",
       "      <td>54</td>\n",
       "      <td>51509</td>\n",
       "      <td>2022-10-17 17:15:36</td>\n",
       "      <td>17</td>\n",
       "    </tr>\n",
       "    <tr>\n",
       "      <th>24</th>\n",
       "      <td>После череды травм Николай Бушуев решил уйти из баскетбола.\\n\\nС тренерским образованием оказалось непросто найти себя вне спорта.\\n\\nКарьера в «Сбербанке» не сложилась, поэтому Николай решил сменить профес...</td>\n",
       "      <td>13</td>\n",
       "      <td>58</td>\n",
       "      <td>32</td>\n",
       "      <td>50585</td>\n",
       "      <td>2022-10-07 15:00:24</td>\n",
       "      <td>15</td>\n",
       "    </tr>\n",
       "    <tr>\n",
       "      <th>13</th>\n",
       "      <td>К обзору востребованных IT-профессий готовы! \\n\\n19 октября в 19:00 к нам в Skillbox придет Сергей Бурунов, чтобы обнажить всю «подноготную» онлайн-образования, узнать, какие профессии входят в IT и реально...</td>\n",
       "      <td>9</td>\n",
       "      <td>68</td>\n",
       "      <td>27</td>\n",
       "      <td>42721</td>\n",
       "      <td>2022-10-15 14:42:39</td>\n",
       "      <td>14</td>\n",
       "    </tr>\n",
       "    <tr>\n",
       "      <th>2</th>\n",
       "      <td>Тимур Татлыев дважды менял работу из-за санкций.\\n\\nВ 2014 году его сократили, а после событий 24 февраля Тимур сам просчитал последствия и не стал ждать — пошел учиться и вовремя нашел новое место.\\n\\nПоче...</td>\n",
       "      <td>0</td>\n",
       "      <td>36</td>\n",
       "      <td>18</td>\n",
       "      <td>42344</td>\n",
       "      <td>2022-10-21 17:36:31</td>\n",
       "      <td>17</td>\n",
       "    </tr>\n",
       "  </tbody>\n",
       "</table>\n",
       "</div>"
      ],
      "text/plain": [
       "                                                                                                                                                                                                                 text  \\\n",
       "6   Хотите лучше понимать своих детей? А научиться совмещать работу и семейную жизнь? \\n\\nТогда 25 октября приглашаем на бесплатную конференцию «Родительство как профессия: что нужно знать и уметь мамам и папам...   \n",
       "12  Что бы такого поделать на этой неделе — интересного, полезного и желательно бесплатного?\\n\\nУ нас есть примерно девять идей — по одной на каждый из наших бесплатных вебинаров. Выбирайте тему, которая вас ин...   \n",
       "24  После череды травм Николай Бушуев решил уйти из баскетбола.\\n\\nС тренерским образованием оказалось непросто найти себя вне спорта.\\n\\nКарьера в «Сбербанке» не сложилась, поэтому Николай решил сменить профес...   \n",
       "13  К обзору востребованных IT-профессий готовы! \\n\\n19 октября в 19:00 к нам в Skillbox придет Сергей Бурунов, чтобы обнажить всю «подноготную» онлайн-образования, узнать, какие профессии входят в IT и реально...   \n",
       "2   Тимур Татлыев дважды менял работу из-за санкций.\\n\\nВ 2014 году его сократили, а после событий 24 февраля Тимур сам просчитал последствия и не стал ждать — пошел учиться и вовремя нашел новое место.\\n\\nПоче...   \n",
       "\n",
       "    comments_count  likes_count  reposts_count  views_count  \\\n",
       "6                1           27             14        62692   \n",
       "12               2           39             54        51509   \n",
       "24              13           58             32        50585   \n",
       "13               9           68             27        42721   \n",
       "2                0           36             18        42344   \n",
       "\n",
       "                 dates  hour  \n",
       "6  2022-10-20 16:13:13    16  \n",
       "12 2022-10-17 17:15:36    17  \n",
       "24 2022-10-07 15:00:24    15  \n",
       "13 2022-10-15 14:42:39    14  \n",
       "2  2022-10-21 17:36:31    17  "
      ]
     },
     "execution_count": 59,
     "metadata": {},
     "output_type": "execute_result"
    }
   ],
   "source": [
    "# отберем публикации, которые собрали просмотров больше, чем медианное значение\n",
    "vk = data_vk.query('views_count  > 26381').sort_values('views_count',ascending=False)\n",
    "vk.head()"
   ]
  },
  {
   "cell_type": "markdown",
   "id": "7196413a",
   "metadata": {},
   "source": [
    "Вывод:\n",
    "- В ВК публикуют записи 2 раза в день. После 14 часов и 19. Пять самых популярных записей опубликованы после 14 часов. \n",
    "- Да, время публикации важно."
   ]
  },
  {
   "cell_type": "markdown",
   "id": "9efeb25f",
   "metadata": {},
   "source": [
    "**Построим графики зависимости времени публикации и количества репостов, комментариев, лайков, просмотров**"
   ]
  },
  {
   "cell_type": "code",
   "execution_count": 85,
   "id": "0dc3a5e5",
   "metadata": {},
   "outputs": [],
   "source": [
    "fig = go.Figure()\n",
    "pull = [0]*len(vk['reposts_count'])\n",
    "pull[vk['reposts_count'].tolist().index(vk['reposts_count'].max())] = 0.2\n",
    "fig.add_trace(go.Pie(values=vk['reposts_count'], labels=vk['hour'], pull=pull))\n",
    "fig.update_layout(title=\"График зависимости времени публикации и количества репостов\", legend_orientation=\"h\")\n",
    "#fig.show()\n",
    "\n",
    "fig = go.Figure()\n",
    "pull = [0]*len(vk['comments_count'])\n",
    "pull[vk['comments_count'].tolist().index(vk['comments_count'].max())] = 0.2\n",
    "#fig.add_trace(go.Pie(values=vk['comments_count'], labels=vk['hour'], pull=pull))\n",
    "#fig.update_layout(title=\"График зависимости времени публикации и количества комментариев\", legend_orientation=\"h\")\n",
    "#fig.show()"
   ]
  },
  {
   "attachments": {
    "image.png": {
     "image/png": "[encoded data removed]"
    }
   },
   "cell_type": "markdown",
   "id": "c8461299",
   "metadata": {},
   "source": [
    "![image.png](attachment:image.png)"
   ]
  },
  {
   "attachments": {
    "image.png": {
     "image/png": "[encoded data removed]"
    }
   },
   "cell_type": "markdown",
   "id": "19ac333c",
   "metadata": {},
   "source": [
    "![image.png](attachment:image.png)"
   ]
  },
  {
   "cell_type": "code",
   "execution_count": 83,
   "id": "a49e7ee3",
   "metadata": {},
   "outputs": [],
   "source": [
    "fig = go.Figure()\n",
    "pull = [0]*len(vk['likes_count'])\n",
    "pull[vk['likes_count'].tolist().index(vk['likes_count'].max())] = 0.2\n",
    "fig.add_trace(go.Pie(values=vk['likes_count'], labels=vk['hour'], pull=pull))\n",
    "fig.update_layout(title=\"График зависимости времени публикации и количества лайков\", legend_orientation=\"h\")\n",
    "#fig.show()\n",
    "\n",
    "fig = go.Figure()\n",
    "pull = [0]*len(vk['views_count'])\n",
    "pull[vk['views_count'].tolist().index(vk['views_count'].max())] = 0.2\n",
    "#fig.add_trace(go.Pie(values=vk['views_count'], labels=vk['hour'], pull=pull))\n",
    "#fig.update_layout(title=\"График зависимости времени публикации и количества просмотров\", legend_orientation=\"h\")\n",
    "#fig.show()"
   ]
  },
  {
   "attachments": {
    "image.png": {
     "image/png": "[encoded data removed]"
    }
   },
   "cell_type": "markdown",
   "id": "217508a0",
   "metadata": {},
   "source": [
    "![image.png](attachment:image.png)"
   ]
  },
  {
   "attachments": {
    "image.png": {
     "image/png": "[encoded data removed]"
    }
   },
   "cell_type": "markdown",
   "id": "8de91b62",
   "metadata": {},
   "source": [
    "![image.png](attachment:image.png)"
   ]
  },
  {
   "cell_type": "markdown",
   "id": "352696cb",
   "metadata": {},
   "source": [
    "Вывод:\n",
    "- По графикам очевидно, что самое популярное время по активностям пользователей - это 15 часов\n",
    "- Самое не актуальное время для публикации - 18 часов"
   ]
  },
  {
   "cell_type": "markdown",
   "id": "86d2e4f7",
   "metadata": {},
   "source": [
    "**Рассмотрим посты, которые выше медианных значений. Сравним с полученным выводом** "
   ]
  },
  {
   "cell_type": "code",
   "execution_count": 63,
   "id": "e185b457",
   "metadata": {},
   "outputs": [
    {
     "name": "stdout",
     "output_type": "stream",
     "text": [
      "0.5\n",
      "36.5\n",
      "19.0\n",
      "35382.5\n",
      "16.0\n"
     ]
    }
   ],
   "source": [
    "# пересчитаем медиану\n",
    "print (vk['comments_count'].median())\n",
    "print(vk['likes_count'].median())\n",
    "print(vk['reposts_count'].median())\n",
    "print(vk['views_count'].median())\n",
    "print(vk['hour'].median())"
   ]
  },
  {
   "cell_type": "code",
   "execution_count": 64,
   "id": "2b85add1",
   "metadata": {},
   "outputs": [
    {
     "data": {
      "text/html": [
       "<div>\n",
       "<style scoped>\n",
       "    .dataframe tbody tr th:only-of-type {\n",
       "        vertical-align: middle;\n",
       "    }\n",
       "\n",
       "    .dataframe tbody tr th {\n",
       "        vertical-align: top;\n",
       "    }\n",
       "\n",
       "    .dataframe thead th {\n",
       "        text-align: right;\n",
       "    }\n",
       "</style>\n",
       "<table border=\"1\" class=\"dataframe\">\n",
       "  <thead>\n",
       "    <tr style=\"text-align: right;\">\n",
       "      <th></th>\n",
       "      <th>text</th>\n",
       "      <th>comments_count</th>\n",
       "      <th>likes_count</th>\n",
       "      <th>reposts_count</th>\n",
       "      <th>views_count</th>\n",
       "      <th>dates</th>\n",
       "      <th>hour</th>\n",
       "    </tr>\n",
       "  </thead>\n",
       "  <tbody>\n",
       "    <tr>\n",
       "      <th>12</th>\n",
       "      <td>Что бы такого поделать на этой неделе — интересного, полезного и желательно бесплатного?\\n\\nУ нас есть примерно девять идей — по одной на каждый из наших бесплатных вебинаров. Выбирайте тему, которая вас ин...</td>\n",
       "      <td>2</td>\n",
       "      <td>39</td>\n",
       "      <td>54</td>\n",
       "      <td>51509</td>\n",
       "      <td>2022-10-17 17:15:36</td>\n",
       "      <td>17</td>\n",
       "    </tr>\n",
       "    <tr>\n",
       "      <th>24</th>\n",
       "      <td>После череды травм Николай Бушуев решил уйти из баскетбола.\\n\\nС тренерским образованием оказалось непросто найти себя вне спорта.\\n\\nКарьера в «Сбербанке» не сложилась, поэтому Николай решил сменить профес...</td>\n",
       "      <td>13</td>\n",
       "      <td>58</td>\n",
       "      <td>32</td>\n",
       "      <td>50585</td>\n",
       "      <td>2022-10-07 15:00:24</td>\n",
       "      <td>15</td>\n",
       "    </tr>\n",
       "    <tr>\n",
       "      <th>13</th>\n",
       "      <td>К обзору востребованных IT-профессий готовы! \\n\\n19 октября в 19:00 к нам в Skillbox придет Сергей Бурунов, чтобы обнажить всю «подноготную» онлайн-образования, узнать, какие профессии входят в IT и реально...</td>\n",
       "      <td>9</td>\n",
       "      <td>68</td>\n",
       "      <td>27</td>\n",
       "      <td>42721</td>\n",
       "      <td>2022-10-15 14:42:39</td>\n",
       "      <td>14</td>\n",
       "    </tr>\n",
       "  </tbody>\n",
       "</table>\n",
       "</div>"
      ],
      "text/plain": [
       "                                                                                                                                                                                                                 text  \\\n",
       "12  Что бы такого поделать на этой неделе — интересного, полезного и желательно бесплатного?\\n\\nУ нас есть примерно девять идей — по одной на каждый из наших бесплатных вебинаров. Выбирайте тему, которая вас ин...   \n",
       "24  После череды травм Николай Бушуев решил уйти из баскетбола.\\n\\nС тренерским образованием оказалось непросто найти себя вне спорта.\\n\\nКарьера в «Сбербанке» не сложилась, поэтому Николай решил сменить профес...   \n",
       "13  К обзору востребованных IT-профессий готовы! \\n\\n19 октября в 19:00 к нам в Skillbox придет Сергей Бурунов, чтобы обнажить всю «подноготную» онлайн-образования, узнать, какие профессии входят в IT и реально...   \n",
       "\n",
       "    comments_count  likes_count  reposts_count  views_count  \\\n",
       "12               2           39             54        51509   \n",
       "24              13           58             32        50585   \n",
       "13               9           68             27        42721   \n",
       "\n",
       "                 dates  hour  \n",
       "12 2022-10-17 17:15:36    17  \n",
       "24 2022-10-07 15:00:24    15  \n",
       "13 2022-10-15 14:42:39    14  "
      ]
     },
     "execution_count": 64,
     "metadata": {},
     "output_type": "execute_result"
    }
   ],
   "source": [
    "df_vk= vk.query('likes_count > 36.5 & comments_count > 0.5 & reposts_count > 19 & views_count > 35382.5') \\\n",
    "              .sort_values('views_count',ascending=False)\n",
    "df_vk"
   ]
  },
  {
   "cell_type": "markdown",
   "id": "ad22a1a9",
   "metadata": {},
   "source": [
    "Вывод:\n",
    "- Cамые популярные посты опубликованы в обеденный перерыв с 14 до 15"
   ]
  },
  {
   "cell_type": "markdown",
   "id": "4b527aa4",
   "metadata": {},
   "source": [
    "## 3.Аналитика по рубрикам"
   ]
  },
  {
   "cell_type": "markdown",
   "id": "c3a30da6",
   "metadata": {},
   "source": [
    "### Гипотеза:  влияет ли тема рубрики (тег) на популярность поста"
   ]
  },
  {
   "cell_type": "markdown",
   "id": "3ec0b6b2",
   "metadata": {},
   "source": [
    "Рубрики у Skillbox отмечены хештегами в конце поста. Посты с Сергеем Буруновым не были отмечены хештегами, поэтому поиск будет осуществляется по фамилии. Это может быть связано с тем , что акция является одноразовой.Так же есть постоянные вебинары , не отмеченные # "
   ]
  },
  {
   "cell_type": "code",
   "execution_count": 65,
   "id": "a5d013db",
   "metadata": {},
   "outputs": [
    {
     "name": "stdout",
     "output_type": "stream",
     "text": [
      "['#Skilbox_программирование', '#Skillbox_управление', '#Skillbox_дизайн', '#Skillbox_киноимузыка', '#ДеньДЦП', '#Skillbox_дизайн', '#Skillbox_высшее_образование']\n"
     ]
    }
   ],
   "source": [
    "y_text = vk['text'].tolist()\n",
    "# найдем все теги, которые есть в постах, где количество просмотров выше медианного значения с помощью регулярных выражений\n",
    "textlookfor = r\"#\\w+\\b\" # слова с заглавной\n",
    "hashtag = re.findall(textlookfor, str(y_text))\n",
    "print(hashtag)"
   ]
  },
  {
   "cell_type": "markdown",
   "id": "117b0c46",
   "metadata": {},
   "source": [
    "#ДеньДЦП это всероссийская акция в которой принимал Skillbox, не является постоянной рубрикой. Далее не рассматриваем"
   ]
  },
  {
   "cell_type": "code",
   "execution_count": 68,
   "id": "bbaaf4af",
   "metadata": {},
   "outputs": [
    {
     "name": "stderr",
     "output_type": "stream",
     "text": [
      "C:\\Users\\User01\\AppData\\Local\\Temp\\ipykernel_4200\\3126475727.py:3: FutureWarning:\n",
      "\n",
      "DataFrame.mean and DataFrame.median with numeric_only=None will include datetime64 and datetime64tz columns in a future version.\n",
      "\n",
      "C:\\Users\\User01\\AppData\\Local\\Temp\\ipykernel_4200\\3126475727.py:3: FutureWarning:\n",
      "\n",
      "Dropping of nuisance columns in DataFrame reductions (with 'numeric_only=None') is deprecated; in a future version this will raise TypeError.  Select only valid columns before calling the reduction.\n",
      "\n",
      "C:\\Users\\User01\\AppData\\Local\\Temp\\ipykernel_4200\\3126475727.py:6: FutureWarning:\n",
      "\n",
      "DataFrame.mean and DataFrame.median with numeric_only=None will include datetime64 and datetime64tz columns in a future version.\n",
      "\n",
      "C:\\Users\\User01\\AppData\\Local\\Temp\\ipykernel_4200\\3126475727.py:6: FutureWarning:\n",
      "\n",
      "Dropping of nuisance columns in DataFrame reductions (with 'numeric_only=None') is deprecated; in a future version this will raise TypeError.  Select only valid columns before calling the reduction.\n",
      "\n",
      "C:\\Users\\User01\\AppData\\Local\\Temp\\ipykernel_4200\\3126475727.py:9: FutureWarning:\n",
      "\n",
      "DataFrame.mean and DataFrame.median with numeric_only=None will include datetime64 and datetime64tz columns in a future version.\n",
      "\n",
      "C:\\Users\\User01\\AppData\\Local\\Temp\\ipykernel_4200\\3126475727.py:9: FutureWarning:\n",
      "\n",
      "Dropping of nuisance columns in DataFrame reductions (with 'numeric_only=None') is deprecated; in a future version this will raise TypeError.  Select only valid columns before calling the reduction.\n",
      "\n",
      "C:\\Users\\User01\\AppData\\Local\\Temp\\ipykernel_4200\\3126475727.py:12: FutureWarning:\n",
      "\n",
      "DataFrame.mean and DataFrame.median with numeric_only=None will include datetime64 and datetime64tz columns in a future version.\n",
      "\n",
      "C:\\Users\\User01\\AppData\\Local\\Temp\\ipykernel_4200\\3126475727.py:12: FutureWarning:\n",
      "\n",
      "Dropping of nuisance columns in DataFrame reductions (with 'numeric_only=None') is deprecated; in a future version this will raise TypeError.  Select only valid columns before calling the reduction.\n",
      "\n",
      "C:\\Users\\User01\\AppData\\Local\\Temp\\ipykernel_4200\\3126475727.py:15: FutureWarning:\n",
      "\n",
      "DataFrame.mean and DataFrame.median with numeric_only=None will include datetime64 and datetime64tz columns in a future version.\n",
      "\n",
      "C:\\Users\\User01\\AppData\\Local\\Temp\\ipykernel_4200\\3126475727.py:15: FutureWarning:\n",
      "\n",
      "Dropping of nuisance columns in DataFrame reductions (with 'numeric_only=None') is deprecated; in a future version this will raise TypeError.  Select only valid columns before calling the reduction.\n",
      "\n",
      "C:\\Users\\User01\\AppData\\Local\\Temp\\ipykernel_4200\\3126475727.py:18: FutureWarning:\n",
      "\n",
      "DataFrame.mean and DataFrame.median with numeric_only=None will include datetime64 and datetime64tz columns in a future version.\n",
      "\n",
      "C:\\Users\\User01\\AppData\\Local\\Temp\\ipykernel_4200\\3126475727.py:18: FutureWarning:\n",
      "\n",
      "Dropping of nuisance columns in DataFrame reductions (with 'numeric_only=None') is deprecated; in a future version this will raise TypeError.  Select only valid columns before calling the reduction.\n",
      "\n",
      "C:\\Users\\User01\\AppData\\Local\\Temp\\ipykernel_4200\\3126475727.py:21: FutureWarning:\n",
      "\n",
      "DataFrame.mean and DataFrame.median with numeric_only=None will include datetime64 and datetime64tz columns in a future version.\n",
      "\n",
      "C:\\Users\\User01\\AppData\\Local\\Temp\\ipykernel_4200\\3126475727.py:21: FutureWarning:\n",
      "\n",
      "Dropping of nuisance columns in DataFrame reductions (with 'numeric_only=None') is deprecated; in a future version this will raise TypeError.  Select only valid columns before calling the reduction.\n",
      "\n"
     ]
    }
   ],
   "source": [
    "# найдем посты, которые содержат наши теги в тексте и создадим новый датасет для построения графиков\n",
    "program = data_vk[data_vk['text'].str.contains('#Skilbox_программирование')]\n",
    "program_median = pd.DataFrame(program.median()).T\n",
    "\n",
    "manag = data_vk[data_vk['text'].str.contains('#Skillbox_управление')]\n",
    "manag_median = pd.DataFrame(manag.median()).T\n",
    "\n",
    "design =data_vk[data_vk['text'].str.contains('#Skillbox_дизайн')]\n",
    "design_median = pd.DataFrame(design.median()).T\n",
    "\n",
    "art = data_vk[data_vk['text'].str.contains('#Skillbox_киноимузыка')]\n",
    "art_median = pd.DataFrame(art.median()).T\n",
    "\n",
    "education = data_vk[data_vk['text'].str.contains('#Skillbox_высшее_образование')]\n",
    "education_median = pd.DataFrame(education.median()).T\n",
    "\n",
    "promo = data_vk[data_vk['text'].str.contains('Бурун')]\n",
    "promo_median = pd.DataFrame(promo.median()).T\n",
    "\n",
    "webinar = data_vk[data_vk['text'].str.contains('вебинар')]\n",
    "webinar_median = pd.DataFrame(webinar.median()).T"
   ]
  },
  {
   "cell_type": "code",
   "execution_count": 69,
   "id": "41734a7c",
   "metadata": {},
   "outputs": [],
   "source": [
    "#Удаляем рубрики не актуальные и дубликат\n",
    "hashtag.remove('#Skillbox_дизайн')\n",
    "hashtag.remove('#ДеньДЦП')"
   ]
  },
  {
   "cell_type": "code",
   "execution_count": 70,
   "id": "51eb30a8",
   "metadata": {},
   "outputs": [
    {
     "name": "stdout",
     "output_type": "stream",
     "text": [
      "['#Skilbox_программирование', '#Skillbox_управление', '#Skillbox_киноимузыка', '#Skillbox_дизайн', '#Skillbox_высшее_образование', 'Бурун', 'вебинар']\n"
     ]
    }
   ],
   "source": [
    "# Добавляем рубрики по ключевым словам\n",
    "hashtag.append('Бурун')\n",
    "hashtag.append('вебинар')\n",
    "print(hashtag)"
   ]
  },
  {
   "cell_type": "code",
   "execution_count": 71,
   "id": "81d07d5c",
   "metadata": {},
   "outputs": [
    {
     "data": {
      "text/html": [
       "<div>\n",
       "<style scoped>\n",
       "    .dataframe tbody tr th:only-of-type {\n",
       "        vertical-align: middle;\n",
       "    }\n",
       "\n",
       "    .dataframe tbody tr th {\n",
       "        vertical-align: top;\n",
       "    }\n",
       "\n",
       "    .dataframe thead th {\n",
       "        text-align: right;\n",
       "    }\n",
       "</style>\n",
       "<table border=\"1\" class=\"dataframe\">\n",
       "  <thead>\n",
       "    <tr style=\"text-align: right;\">\n",
       "      <th></th>\n",
       "      <th>text</th>\n",
       "      <th>comments_count</th>\n",
       "      <th>likes_count</th>\n",
       "      <th>reposts_count</th>\n",
       "      <th>views_count</th>\n",
       "      <th>dates</th>\n",
       "      <th>hour</th>\n",
       "    </tr>\n",
       "  </thead>\n",
       "  <tbody>\n",
       "    <tr>\n",
       "      <th>24</th>\n",
       "      <td>После череды травм Николай Бушуев решил уйти из баскетбола.\\n\\nС тренерским образованием оказалось непросто найти себя вне спорта.\\n\\nКарьера в «Сбербанке» не сложилась, поэтому Николай решил сменить профес...</td>\n",
       "      <td>13</td>\n",
       "      <td>58</td>\n",
       "      <td>32</td>\n",
       "      <td>50585</td>\n",
       "      <td>2022-10-07 15:00:24</td>\n",
       "      <td>15</td>\n",
       "    </tr>\n",
       "  </tbody>\n",
       "</table>\n",
       "</div>"
      ],
      "text/plain": [
       "                                                                                                                                                                                                                 text  \\\n",
       "24  После череды травм Николай Бушуев решил уйти из баскетбола.\\n\\nС тренерским образованием оказалось непросто найти себя вне спорта.\\n\\nКарьера в «Сбербанке» не сложилась, поэтому Николай решил сменить профес...   \n",
       "\n",
       "    comments_count  likes_count  reposts_count  views_count  \\\n",
       "24              13           58             32        50585   \n",
       "\n",
       "                 dates  hour  \n",
       "24 2022-10-07 15:00:24    15  "
      ]
     },
     "execution_count": 71,
     "metadata": {},
     "output_type": "execute_result"
    }
   ],
   "source": [
    "# Посты из рубрики #Skilbox_программирование\n",
    "program"
   ]
  },
  {
   "cell_type": "code",
   "execution_count": 72,
   "id": "68dfe6e1",
   "metadata": {},
   "outputs": [
    {
     "data": {
      "text/html": [
       "<div>\n",
       "<style scoped>\n",
       "    .dataframe tbody tr th:only-of-type {\n",
       "        vertical-align: middle;\n",
       "    }\n",
       "\n",
       "    .dataframe tbody tr th {\n",
       "        vertical-align: top;\n",
       "    }\n",
       "\n",
       "    .dataframe thead th {\n",
       "        text-align: right;\n",
       "    }\n",
       "</style>\n",
       "<table border=\"1\" class=\"dataframe\">\n",
       "  <thead>\n",
       "    <tr style=\"text-align: right;\">\n",
       "      <th></th>\n",
       "      <th>text</th>\n",
       "      <th>comments_count</th>\n",
       "      <th>likes_count</th>\n",
       "      <th>reposts_count</th>\n",
       "      <th>views_count</th>\n",
       "      <th>dates</th>\n",
       "      <th>hour</th>\n",
       "    </tr>\n",
       "  </thead>\n",
       "  <tbody>\n",
       "    <tr>\n",
       "      <th>2</th>\n",
       "      <td>Тимур Татлыев дважды менял работу из-за санкций.\\n\\nВ 2014 году его сократили, а после событий 24 февраля Тимур сам просчитал последствия и не стал ждать — пошел учиться и вовремя нашел новое место.\\n\\nПоче...</td>\n",
       "      <td>0</td>\n",
       "      <td>36</td>\n",
       "      <td>18</td>\n",
       "      <td>42344</td>\n",
       "      <td>2022-10-21 17:36:31</td>\n",
       "      <td>17</td>\n",
       "    </tr>\n",
       "  </tbody>\n",
       "</table>\n",
       "</div>"
      ],
      "text/plain": [
       "                                                                                                                                                                                                                text  \\\n",
       "2  Тимур Татлыев дважды менял работу из-за санкций.\\n\\nВ 2014 году его сократили, а после событий 24 февраля Тимур сам просчитал последствия и не стал ждать — пошел учиться и вовремя нашел новое место.\\n\\nПоче...   \n",
       "\n",
       "   comments_count  likes_count  reposts_count  views_count  \\\n",
       "2               0           36             18        42344   \n",
       "\n",
       "                dates  hour  \n",
       "2 2022-10-21 17:36:31    17  "
      ]
     },
     "execution_count": 72,
     "metadata": {},
     "output_type": "execute_result"
    }
   ],
   "source": [
    "# Посты из рубрики #Skillbox_управление\n",
    "manag"
   ]
  },
  {
   "cell_type": "code",
   "execution_count": 73,
   "id": "83fbd326",
   "metadata": {},
   "outputs": [
    {
     "data": {
      "text/html": [
       "<div>\n",
       "<style scoped>\n",
       "    .dataframe tbody tr th:only-of-type {\n",
       "        vertical-align: middle;\n",
       "    }\n",
       "\n",
       "    .dataframe tbody tr th {\n",
       "        vertical-align: top;\n",
       "    }\n",
       "\n",
       "    .dataframe thead th {\n",
       "        text-align: right;\n",
       "    }\n",
       "</style>\n",
       "<table border=\"1\" class=\"dataframe\">\n",
       "  <thead>\n",
       "    <tr style=\"text-align: right;\">\n",
       "      <th></th>\n",
       "      <th>text</th>\n",
       "      <th>comments_count</th>\n",
       "      <th>likes_count</th>\n",
       "      <th>reposts_count</th>\n",
       "      <th>views_count</th>\n",
       "      <th>dates</th>\n",
       "      <th>hour</th>\n",
       "    </tr>\n",
       "  </thead>\n",
       "  <tbody>\n",
       "    <tr>\n",
       "      <th>8</th>\n",
       "      <td>Задача: разработать дизайн карточки товара.\\n\\nКлиент: магазин кроссовок.\\n\\nДедлайн: через 3 дня.\\n\\nС таким ТЗ мы недавно провели очередной дизайн-спринт для наших пользователей. И на выходе получили мног...</td>\n",
       "      <td>0</td>\n",
       "      <td>53</td>\n",
       "      <td>20</td>\n",
       "      <td>37798</td>\n",
       "      <td>2022-10-19 15:44:49</td>\n",
       "      <td>15</td>\n",
       "    </tr>\n",
       "    <tr>\n",
       "      <th>16</th>\n",
       "      <td>У вас всего три дня — успеете создать классный проект?\\n\\nДля пользователей наших курсов мы регулярно проводим дизайн-спринты: когда за короткий срок нужно сделать полноценную работу по брифу в сопровождени...</td>\n",
       "      <td>0</td>\n",
       "      <td>41</td>\n",
       "      <td>6</td>\n",
       "      <td>28499</td>\n",
       "      <td>2022-10-13 14:00:28</td>\n",
       "      <td>14</td>\n",
       "    </tr>\n",
       "    <tr>\n",
       "      <th>30</th>\n",
       "      <td>«И чему вас только в школе учат?»\\n\\nТакой вопрос загонит в тупик кого угодно, только не наших пользователей! Они-то всегда могут рассказать и показать, чему их учат.\\n\\nСобрали для вас шоурил с работами уч...</td>\n",
       "      <td>0</td>\n",
       "      <td>28</td>\n",
       "      <td>8</td>\n",
       "      <td>24022</td>\n",
       "      <td>2022-10-04 14:54:05</td>\n",
       "      <td>14</td>\n",
       "    </tr>\n",
       "  </tbody>\n",
       "</table>\n",
       "</div>"
      ],
      "text/plain": [
       "                                                                                                                                                                                                                 text  \\\n",
       "8   Задача: разработать дизайн карточки товара.\\n\\nКлиент: магазин кроссовок.\\n\\nДедлайн: через 3 дня.\\n\\nС таким ТЗ мы недавно провели очередной дизайн-спринт для наших пользователей. И на выходе получили мног...   \n",
       "16  У вас всего три дня — успеете создать классный проект?\\n\\nДля пользователей наших курсов мы регулярно проводим дизайн-спринты: когда за короткий срок нужно сделать полноценную работу по брифу в сопровождени...   \n",
       "30  «И чему вас только в школе учат?»\\n\\nТакой вопрос загонит в тупик кого угодно, только не наших пользователей! Они-то всегда могут рассказать и показать, чему их учат.\\n\\nСобрали для вас шоурил с работами уч...   \n",
       "\n",
       "    comments_count  likes_count  reposts_count  views_count  \\\n",
       "8                0           53             20        37798   \n",
       "16               0           41              6        28499   \n",
       "30               0           28              8        24022   \n",
       "\n",
       "                 dates  hour  \n",
       "8  2022-10-19 15:44:49    15  \n",
       "16 2022-10-13 14:00:28    14  \n",
       "30 2022-10-04 14:54:05    14  "
      ]
     },
     "execution_count": 73,
     "metadata": {},
     "output_type": "execute_result"
    }
   ],
   "source": [
    "# Посты из рубрики #Skillbox_дизайн\n",
    "design"
   ]
  },
  {
   "cell_type": "code",
   "execution_count": 74,
   "id": "085c7e2c",
   "metadata": {},
   "outputs": [
    {
     "data": {
      "text/html": [
       "<div>\n",
       "<style scoped>\n",
       "    .dataframe tbody tr th:only-of-type {\n",
       "        vertical-align: middle;\n",
       "    }\n",
       "\n",
       "    .dataframe tbody tr th {\n",
       "        vertical-align: top;\n",
       "    }\n",
       "\n",
       "    .dataframe thead th {\n",
       "        text-align: right;\n",
       "    }\n",
       "</style>\n",
       "<table border=\"1\" class=\"dataframe\">\n",
       "  <thead>\n",
       "    <tr style=\"text-align: right;\">\n",
       "      <th></th>\n",
       "      <th>text</th>\n",
       "      <th>comments_count</th>\n",
       "      <th>likes_count</th>\n",
       "      <th>reposts_count</th>\n",
       "      <th>views_count</th>\n",
       "      <th>dates</th>\n",
       "      <th>hour</th>\n",
       "    </tr>\n",
       "  </thead>\n",
       "  <tbody>\n",
       "    <tr>\n",
       "      <th>0</th>\n",
       "      <td>Однажды Александра обнаружила, что звуки гуслей убаюкивают ее детей.\\n\\nОткрытие заставило ее придумать отдельное музыкальное направление — гуслитерапию. После записи дебютного альбома и курса Skillbox Алек...</td>\n",
       "      <td>3</td>\n",
       "      <td>18</td>\n",
       "      <td>5</td>\n",
       "      <td>12088</td>\n",
       "      <td>2022-10-24 17:21:30</td>\n",
       "      <td>17</td>\n",
       "    </tr>\n",
       "    <tr>\n",
       "      <th>15</th>\n",
       "      <td>Они начали свой творческий путь в начале 00-х и добились известности во всем мире.\\n\\nMujuice, Нина Кравиц, Motorama — мы взяли лишь малую часть из того огромного созвездия электронных исполнителей России, ...</td>\n",
       "      <td>3</td>\n",
       "      <td>32</td>\n",
       "      <td>18</td>\n",
       "      <td>34317</td>\n",
       "      <td>2022-10-13 16:50:23</td>\n",
       "      <td>16</td>\n",
       "    </tr>\n",
       "  </tbody>\n",
       "</table>\n",
       "</div>"
      ],
      "text/plain": [
       "                                                                                                                                                                                                                 text  \\\n",
       "0   Однажды Александра обнаружила, что звуки гуслей убаюкивают ее детей.\\n\\nОткрытие заставило ее придумать отдельное музыкальное направление — гуслитерапию. После записи дебютного альбома и курса Skillbox Алек...   \n",
       "15  Они начали свой творческий путь в начале 00-х и добились известности во всем мире.\\n\\nMujuice, Нина Кравиц, Motorama — мы взяли лишь малую часть из того огромного созвездия электронных исполнителей России, ...   \n",
       "\n",
       "    comments_count  likes_count  reposts_count  views_count  \\\n",
       "0                3           18              5        12088   \n",
       "15               3           32             18        34317   \n",
       "\n",
       "                 dates  hour  \n",
       "0  2022-10-24 17:21:30    17  \n",
       "15 2022-10-13 16:50:23    16  "
      ]
     },
     "execution_count": 74,
     "metadata": {},
     "output_type": "execute_result"
    }
   ],
   "source": [
    "# Посты из рубрики #Skillbox_киноимузыка\n",
    "art"
   ]
  },
  {
   "cell_type": "code",
   "execution_count": 75,
   "id": "14ed8830",
   "metadata": {},
   "outputs": [
    {
     "data": {
      "text/html": [
       "<div>\n",
       "<style scoped>\n",
       "    .dataframe tbody tr th:only-of-type {\n",
       "        vertical-align: middle;\n",
       "    }\n",
       "\n",
       "    .dataframe tbody tr th {\n",
       "        vertical-align: top;\n",
       "    }\n",
       "\n",
       "    .dataframe thead th {\n",
       "        text-align: right;\n",
       "    }\n",
       "</style>\n",
       "<table border=\"1\" class=\"dataframe\">\n",
       "  <thead>\n",
       "    <tr style=\"text-align: right;\">\n",
       "      <th></th>\n",
       "      <th>text</th>\n",
       "      <th>comments_count</th>\n",
       "      <th>likes_count</th>\n",
       "      <th>reposts_count</th>\n",
       "      <th>views_count</th>\n",
       "      <th>dates</th>\n",
       "      <th>hour</th>\n",
       "    </tr>\n",
       "  </thead>\n",
       "  <tbody>\n",
       "    <tr>\n",
       "      <th>5</th>\n",
       "      <td>Впереди еще целый месяц!\\n\\nМесяц — для того, чтобы подать документы в онлайн-бакалавриат и магистратуру, организованную нами совместно с РАНХиГС. \\n\\nНа выбор — три заочных программы высшего образования по...</td>\n",
       "      <td>0</td>\n",
       "      <td>29</td>\n",
       "      <td>24</td>\n",
       "      <td>27490</td>\n",
       "      <td>2022-10-20 18:53:16</td>\n",
       "      <td>18</td>\n",
       "    </tr>\n",
       "  </tbody>\n",
       "</table>\n",
       "</div>"
      ],
      "text/plain": [
       "                                                                                                                                                                                                                text  \\\n",
       "5  Впереди еще целый месяц!\\n\\nМесяц — для того, чтобы подать документы в онлайн-бакалавриат и магистратуру, организованную нами совместно с РАНХиГС. \\n\\nНа выбор — три заочных программы высшего образования по...   \n",
       "\n",
       "   comments_count  likes_count  reposts_count  views_count  \\\n",
       "5               0           29             24        27490   \n",
       "\n",
       "                dates  hour  \n",
       "5 2022-10-20 18:53:16    18  "
      ]
     },
     "execution_count": 75,
     "metadata": {},
     "output_type": "execute_result"
    }
   ],
   "source": [
    "# Посты из рубрики #Skillbox_высшее_образование\n",
    "education"
   ]
  },
  {
   "cell_type": "code",
   "execution_count": 76,
   "id": "0da301e3",
   "metadata": {},
   "outputs": [
    {
     "data": {
      "text/html": [
       "<div>\n",
       "<style scoped>\n",
       "    .dataframe tbody tr th:only-of-type {\n",
       "        vertical-align: middle;\n",
       "    }\n",
       "\n",
       "    .dataframe tbody tr th {\n",
       "        vertical-align: top;\n",
       "    }\n",
       "\n",
       "    .dataframe thead th {\n",
       "        text-align: right;\n",
       "    }\n",
       "</style>\n",
       "<table border=\"1\" class=\"dataframe\">\n",
       "  <thead>\n",
       "    <tr style=\"text-align: right;\">\n",
       "      <th></th>\n",
       "      <th>text</th>\n",
       "      <th>comments_count</th>\n",
       "      <th>likes_count</th>\n",
       "      <th>reposts_count</th>\n",
       "      <th>views_count</th>\n",
       "      <th>dates</th>\n",
       "      <th>hour</th>\n",
       "    </tr>\n",
       "  </thead>\n",
       "  <tbody>\n",
       "    <tr>\n",
       "      <th>7</th>\n",
       "      <td>Уже поставили напоминалку на 19:00?\\n\\nЕсли нет — напомним мы! Сегодня Сергей Бурунов придет в Skillbox, чтобы провести образовательное расследование.\\n\\nОн узнает, чем занимаются программисты, маркетологи ...</td>\n",
       "      <td>0</td>\n",
       "      <td>16</td>\n",
       "      <td>13</td>\n",
       "      <td>11834</td>\n",
       "      <td>2022-10-19 18:39:47</td>\n",
       "      <td>18</td>\n",
       "    </tr>\n",
       "    <tr>\n",
       "      <th>9</th>\n",
       "      <td>Реально ли освоить IT-профессию на онлайн-курсах? Какие специальности сейчас самые востребованные? И берут ли на работу в IT без опыта?\\n\\nУ Сергея Бурунова к нам много вопросов! И он проведет целое образов...</td>\n",
       "      <td>0</td>\n",
       "      <td>33</td>\n",
       "      <td>8</td>\n",
       "      <td>27980</td>\n",
       "      <td>2022-10-18 19:33:15</td>\n",
       "      <td>19</td>\n",
       "    </tr>\n",
       "    <tr>\n",
       "      <th>11</th>\n",
       "      <td>Сергей Бурунов меняет профессию — в прямом эфире!\\n\\nБез шуток: 19 октября в 19:00 состоится большое образовательное расследование, где Сергей не только познакомится с внутренней кухней Skillbox, но и попро...</td>\n",
       "      <td>0</td>\n",
       "      <td>26</td>\n",
       "      <td>13</td>\n",
       "      <td>19613</td>\n",
       "      <td>2022-10-17 21:38:27</td>\n",
       "      <td>21</td>\n",
       "    </tr>\n",
       "    <tr>\n",
       "      <th>13</th>\n",
       "      <td>К обзору востребованных IT-профессий готовы! \\n\\n19 октября в 19:00 к нам в Skillbox придет Сергей Бурунов, чтобы обнажить всю «подноготную» онлайн-образования, узнать, какие профессии входят в IT и реально...</td>\n",
       "      <td>9</td>\n",
       "      <td>68</td>\n",
       "      <td>27</td>\n",
       "      <td>42721</td>\n",
       "      <td>2022-10-15 14:42:39</td>\n",
       "      <td>14</td>\n",
       "    </tr>\n",
       "    <tr>\n",
       "      <th>17</th>\n",
       "      <td>Реально ли освоить новую профессию на онлайн-курсах? Или это маркетинговая уловка?\\n\\nС этим разберется Сергей Бурунов: 19 октября в 19:00 он проведет большое образовательное расследование. Сергей узнает, ч...</td>\n",
       "      <td>0</td>\n",
       "      <td>25</td>\n",
       "      <td>6</td>\n",
       "      <td>12817</td>\n",
       "      <td>2022-10-12 18:53:48</td>\n",
       "      <td>18</td>\n",
       "    </tr>\n",
       "    <tr>\n",
       "      <th>20</th>\n",
       "      <td>19 октября образовательный детектив Сергей Бурунов устроит для Skillbox допрос с пристрастием.\\n\\nНам предстоит ответить на самые каверзные вопросы, развенчать застарелые мифы — и вообще защитить нашу честь...</td>\n",
       "      <td>1</td>\n",
       "      <td>15</td>\n",
       "      <td>3</td>\n",
       "      <td>26263</td>\n",
       "      <td>2022-10-11 14:40:12</td>\n",
       "      <td>14</td>\n",
       "    </tr>\n",
       "    <tr>\n",
       "      <th>23</th>\n",
       "      <td>У Сергея Бурунова есть кредо: доверять, но проверять. А у нас — быть с душой нараспашку.\\n\\nПоэтому 19 октября мы проведем большой эфир-расследование, где Сергей Бурунов выступит в роли образовательного дет...</td>\n",
       "      <td>1</td>\n",
       "      <td>36</td>\n",
       "      <td>4</td>\n",
       "      <td>27089</td>\n",
       "      <td>2022-10-07 19:12:25</td>\n",
       "      <td>19</td>\n",
       "    </tr>\n",
       "    <tr>\n",
       "      <th>26</th>\n",
       "      <td>Можно ли освоить IT-профессию на онлайн-курсах? Правда ли, что без каких-то особенных знаний и талантов делать в IT нечего? Пора узнать всю правду и развеять мифы! \\n\\nИ за это дело возьмется Сергей Бурунов...</td>\n",
       "      <td>26</td>\n",
       "      <td>46</td>\n",
       "      <td>25</td>\n",
       "      <td>24500</td>\n",
       "      <td>2022-10-05 19:14:05</td>\n",
       "      <td>19</td>\n",
       "    </tr>\n",
       "  </tbody>\n",
       "</table>\n",
       "</div>"
      ],
      "text/plain": [
       "                                                                                                                                                                                                                 text  \\\n",
       "7   Уже поставили напоминалку на 19:00?\\n\\nЕсли нет — напомним мы! Сегодня Сергей Бурунов придет в Skillbox, чтобы провести образовательное расследование.\\n\\nОн узнает, чем занимаются программисты, маркетологи ...   \n",
       "9   Реально ли освоить IT-профессию на онлайн-курсах? Какие специальности сейчас самые востребованные? И берут ли на работу в IT без опыта?\\n\\nУ Сергея Бурунова к нам много вопросов! И он проведет целое образов...   \n",
       "11  Сергей Бурунов меняет профессию — в прямом эфире!\\n\\nБез шуток: 19 октября в 19:00 состоится большое образовательное расследование, где Сергей не только познакомится с внутренней кухней Skillbox, но и попро...   \n",
       "13  К обзору востребованных IT-профессий готовы! \\n\\n19 октября в 19:00 к нам в Skillbox придет Сергей Бурунов, чтобы обнажить всю «подноготную» онлайн-образования, узнать, какие профессии входят в IT и реально...   \n",
       "17  Реально ли освоить новую профессию на онлайн-курсах? Или это маркетинговая уловка?\\n\\nС этим разберется Сергей Бурунов: 19 октября в 19:00 он проведет большое образовательное расследование. Сергей узнает, ч...   \n",
       "20  19 октября образовательный детектив Сергей Бурунов устроит для Skillbox допрос с пристрастием.\\n\\nНам предстоит ответить на самые каверзные вопросы, развенчать застарелые мифы — и вообще защитить нашу честь...   \n",
       "23  У Сергея Бурунова есть кредо: доверять, но проверять. А у нас — быть с душой нараспашку.\\n\\nПоэтому 19 октября мы проведем большой эфир-расследование, где Сергей Бурунов выступит в роли образовательного дет...   \n",
       "26  Можно ли освоить IT-профессию на онлайн-курсах? Правда ли, что без каких-то особенных знаний и талантов делать в IT нечего? Пора узнать всю правду и развеять мифы! \\n\\nИ за это дело возьмется Сергей Бурунов...   \n",
       "\n",
       "    comments_count  likes_count  reposts_count  views_count  \\\n",
       "7                0           16             13        11834   \n",
       "9                0           33              8        27980   \n",
       "11               0           26             13        19613   \n",
       "13               9           68             27        42721   \n",
       "17               0           25              6        12817   \n",
       "20               1           15              3        26263   \n",
       "23               1           36              4        27089   \n",
       "26              26           46             25        24500   \n",
       "\n",
       "                 dates  hour  \n",
       "7  2022-10-19 18:39:47    18  \n",
       "9  2022-10-18 19:33:15    19  \n",
       "11 2022-10-17 21:38:27    21  \n",
       "13 2022-10-15 14:42:39    14  \n",
       "17 2022-10-12 18:53:48    18  \n",
       "20 2022-10-11 14:40:12    14  \n",
       "23 2022-10-07 19:12:25    19  \n",
       "26 2022-10-05 19:14:05    19  "
      ]
     },
     "execution_count": 76,
     "metadata": {},
     "output_type": "execute_result"
    }
   ],
   "source": [
    "# Посты из рубрики Сергей Бурунов\n",
    "promo"
   ]
  },
  {
   "cell_type": "code",
   "execution_count": 77,
   "id": "b697e118",
   "metadata": {},
   "outputs": [
    {
     "data": {
      "text/html": [
       "<div>\n",
       "<style scoped>\n",
       "    .dataframe tbody tr th:only-of-type {\n",
       "        vertical-align: middle;\n",
       "    }\n",
       "\n",
       "    .dataframe tbody tr th {\n",
       "        vertical-align: top;\n",
       "    }\n",
       "\n",
       "    .dataframe thead th {\n",
       "        text-align: right;\n",
       "    }\n",
       "</style>\n",
       "<table border=\"1\" class=\"dataframe\">\n",
       "  <thead>\n",
       "    <tr style=\"text-align: right;\">\n",
       "      <th></th>\n",
       "      <th>text</th>\n",
       "      <th>comments_count</th>\n",
       "      <th>likes_count</th>\n",
       "      <th>reposts_count</th>\n",
       "      <th>views_count</th>\n",
       "      <th>dates</th>\n",
       "      <th>hour</th>\n",
       "    </tr>\n",
       "  </thead>\n",
       "  <tbody>\n",
       "    <tr>\n",
       "      <th>1</th>\n",
       "      <td>Расписание новых бесплатных вебинаров на конец октября.\\n\\nСемь актуальных тем, разбору которых посвятим три дня, — выбирайте, что интересно вам, и регистрируйтесь.\\n\\nСсылку на трансляцию интенсива обычно ...</td>\n",
       "      <td>0</td>\n",
       "      <td>10</td>\n",
       "      <td>15</td>\n",
       "      <td>11747</td>\n",
       "      <td>2022-10-24 14:22:49</td>\n",
       "      <td>14</td>\n",
       "    </tr>\n",
       "    <tr>\n",
       "      <th>12</th>\n",
       "      <td>Что бы такого поделать на этой неделе — интересного, полезного и желательно бесплатного?\\n\\nУ нас есть примерно девять идей — по одной на каждый из наших бесплатных вебинаров. Выбирайте тему, которая вас ин...</td>\n",
       "      <td>2</td>\n",
       "      <td>39</td>\n",
       "      <td>54</td>\n",
       "      <td>51509</td>\n",
       "      <td>2022-10-17 17:15:36</td>\n",
       "      <td>17</td>\n",
       "    </tr>\n",
       "    <tr>\n",
       "      <th>22</th>\n",
       "      <td>Свежее расписание бесплатных вебинаров на эту неделю!\\n\\nИзучайте темы, выбирайте то, что вам интересно, и регистрируйтесь по ссылке. Ссылку на трансляцию интенсива пришлем за 20 минут до его начала.\\n\\n10–...</td>\n",
       "      <td>0</td>\n",
       "      <td>37</td>\n",
       "      <td>24</td>\n",
       "      <td>37073</td>\n",
       "      <td>2022-10-10 16:53:56</td>\n",
       "      <td>16</td>\n",
       "    </tr>\n",
       "    <tr>\n",
       "      <th>31</th>\n",
       "      <td>Подготовили для вас расписание бесплатных вебинаров на неделю вперед.\\n\\nУчеба — хороший способ справиться с тревогой и навязчивыми мыслями. Поэтому выбирайте интересную вам тему, регистрируйтесь и ждите сс...</td>\n",
       "      <td>0</td>\n",
       "      <td>32</td>\n",
       "      <td>29</td>\n",
       "      <td>33194</td>\n",
       "      <td>2022-10-03 15:06:18</td>\n",
       "      <td>15</td>\n",
       "    </tr>\n",
       "  </tbody>\n",
       "</table>\n",
       "</div>"
      ],
      "text/plain": [
       "                                                                                                                                                                                                                 text  \\\n",
       "1   Расписание новых бесплатных вебинаров на конец октября.\\n\\nСемь актуальных тем, разбору которых посвятим три дня, — выбирайте, что интересно вам, и регистрируйтесь.\\n\\nСсылку на трансляцию интенсива обычно ...   \n",
       "12  Что бы такого поделать на этой неделе — интересного, полезного и желательно бесплатного?\\n\\nУ нас есть примерно девять идей — по одной на каждый из наших бесплатных вебинаров. Выбирайте тему, которая вас ин...   \n",
       "22  Свежее расписание бесплатных вебинаров на эту неделю!\\n\\nИзучайте темы, выбирайте то, что вам интересно, и регистрируйтесь по ссылке. Ссылку на трансляцию интенсива пришлем за 20 минут до его начала.\\n\\n10–...   \n",
       "31  Подготовили для вас расписание бесплатных вебинаров на неделю вперед.\\n\\nУчеба — хороший способ справиться с тревогой и навязчивыми мыслями. Поэтому выбирайте интересную вам тему, регистрируйтесь и ждите сс...   \n",
       "\n",
       "    comments_count  likes_count  reposts_count  views_count  \\\n",
       "1                0           10             15        11747   \n",
       "12               2           39             54        51509   \n",
       "22               0           37             24        37073   \n",
       "31               0           32             29        33194   \n",
       "\n",
       "                 dates  hour  \n",
       "1  2022-10-24 14:22:49    14  \n",
       "12 2022-10-17 17:15:36    17  \n",
       "22 2022-10-10 16:53:56    16  \n",
       "31 2022-10-03 15:06:18    15  "
      ]
     },
     "execution_count": 77,
     "metadata": {},
     "output_type": "execute_result"
    }
   ],
   "source": [
    "# Посты из рубрики Вебинары\n",
    "webinar"
   ]
  },
  {
   "cell_type": "markdown",
   "id": "135c9008",
   "metadata": {},
   "source": [
    "Разбив посты на рубрики видно, как они неравномерны. Так как в этом месяце делался уклон на рекламу с Сергеем Буруновым , то это имеет объяснение. Они не стали увеличивать количество постов в день. \n",
    "Проанализировав тест постов, можно сделать оценку, что истории об успехе после образования имеют хорошую популярность.\n"
   ]
  },
  {
   "cell_type": "code",
   "execution_count": 79,
   "id": "205698ef",
   "metadata": {},
   "outputs": [
    {
     "data": {
      "image/png": "[encoded data removed]",
      "text/plain": [
       "<Figure size 432x288 with 1 Axes>"
      ]
     },
     "metadata": {
      "needs_background": "light"
     },
     "output_type": "display_data"
    },
    {
     "data": {
      "image/png": "[encoded data removed]",
      "text/plain": [
       "<Figure size 432x288 with 1 Axes>"
      ]
     },
     "metadata": {
      "needs_background": "light"
     },
     "output_type": "display_data"
    },
    {
     "data": {
      "image/png": "[encoded data removed]",
      "text/plain": [
       "<Figure size 432x288 with 1 Axes>"
      ]
     },
     "metadata": {
      "needs_background": "light"
     },
     "output_type": "display_data"
    },
    {
     "data": {
      "image/png": "[encoded data removed]",
      "text/plain": [
       "<Figure size 432x288 with 1 Axes>"
      ]
     },
     "metadata": {
      "needs_background": "light"
     },
     "output_type": "display_data"
    }
   ],
   "source": [
    "#Цветовая политра столбцов\n",
    "clr = ('red','orange','yellow','green','cyan','blue','purple')\n",
    "\n",
    "# График для лайков \n",
    "likes = [program_median.loc[0, 'likes_count'], manag_median.loc[0, 'likes_count'], \n",
    "    design_median.loc[0, 'likes_count'], art_median.loc[0, 'likes_count'], \n",
    "    education_median.loc[0, 'likes_count'], promo_median.loc[0, 'likes_count'], webinar_median.loc[0, 'likes_count']]\n",
    "\n",
    "fig, subplot = plt.subplots()\n",
    "subplot.barh(hashtag, likes, color = clr )\n",
    "# Вывод подписей делений оси абсцисс\n",
    "plt.xticks(rotation='horizontal')\n",
    "subplot.set_title(\"Медианное количество лайков по рубрикам\")\n",
    "# Вывод названия осей\n",
    "subplot.set(xlabel='Медианное количество лайков', ylabel='Название курса');\n",
    "\n",
    "# График для комментариев\n",
    "comme = [program_median.loc[0, 'comments_count'], manag_median.loc[0, 'comments_count'], \n",
    "    design_median.loc[0, 'comments_count'], art_median.loc[0, 'comments_count'], \n",
    "    education_median.loc[0, 'comments_count'], promo_median.loc[0, 'comments_count'], webinar_median.loc[0, 'comments_count']]\n",
    "\n",
    "fig, subplot = plt.subplots()\n",
    "subplot.barh(hashtag, comme, color = clr )\n",
    "# Вывод подписей делений оси абсцисс\n",
    "plt.xticks(rotation='horizontal')\n",
    "subplot.set_title(\"Медианное количество комметариев по рубрикам\")\n",
    "# Вывод названия осей\n",
    "subplot.set(xlabel='Медианное количество комметариев', ylabel='Название курса');\n",
    "\n",
    "# График для репостов\n",
    "re = [program_median.loc[0, 'reposts_count'], manag_median.loc[0, 'reposts_count'], \n",
    "    design_median.loc[0, 'reposts_count'], art_median.loc[0, 'reposts_count'], \n",
    "    education_median.loc[0, 'reposts_count'], promo_median.loc[0, 'reposts_count'], webinar_median.loc[0, 'reposts_count']]\n",
    "\n",
    "fig, subplot = plt.subplots()\n",
    "subplot.barh(hashtag, re, color = clr )\n",
    "# Вывод подписей делений оси абсцисс\n",
    "plt.xticks(rotation='horizontal')\n",
    "subplot.set_title(\"Медианное количество репостов по рубрикам\")\n",
    "# Вывод названия осей\n",
    "subplot.set(xlabel='Медианное количество репостов', ylabel='Название курса');\n",
    "\n",
    "# График для просмотров\n",
    "re = [program_median.loc[0, 'views_count'], manag_median.loc[0, 'views_count'], \n",
    "    design_median.loc[0, 'views_count'], art_median.loc[0, 'views_count'], \n",
    "    education_median.loc[0, 'views_count'], promo_median.loc[0, 'views_count'], webinar_median.loc[0, 'views_count']]\n",
    "fig, subplot = plt.subplots()\n",
    "subplot.barh(hashtag, re, color = clr )\n",
    "# Вывод подписей делений оси абсцисс\n",
    "plt.xticks(rotation='horizontal')\n",
    "subplot.set_title(\"Медианное количество просмотров по рубрикам\")\n",
    "# Вывод названия осей\n",
    "subplot.set(xlabel='Медианное количество просмотров', ylabel='Название курса');"
   ]
  },
  {
   "cell_type": "markdown",
   "id": "fd8dc3cc",
   "metadata": {},
   "source": [
    "Выводы:\n",
    "- По всем показателям рубрика по программированию #Skilbox_программирование самая эффективная. Анализ вовлеченности пользователей по данной рубрике, за весь период ее публикации, показывает наибольшую активность; \n",
    "- Популярность обусловлена тем, что пост выпушен в период времени с 14-15 часов. Это пик активности пользователей.  информация об успехе человека после прохождения курсов тоже ключевой фактор популярности;\n",
    "- Из анализа рекламных постов с Буруновым , можно сделать выводы о не высокой эффективности. Основная проблема заключается в том, что 6 из 8 публикации были выпущены после 18 часов. Вечернее время имеет низкие показатели; \n",
    "- Стоит отметить что посты с вебенарами являются одними из лидирующих по показателям активности пользователей. Причины могу быть связанны с тем, что это бесплатно. Только 1 из 4 был выпушен в период максимальной активности с 14-15 часов, т.е. время публикации было здесь не решающим фактором."
   ]
  },
  {
   "cell_type": "markdown",
   "id": "3a52250f",
   "metadata": {},
   "source": [
    "Рекомендации для SMM:\n",
    "- Если будет еще реклама со звездой, то внимание стоит обратить на время публикации. Чтоб охват аудитории был выше;\n",
    "- Время публикации вебинаров не важно. Люди ими будут интересоваться, т.к. это бесплатный источник информации;\n",
    "- История про баскетболиста по теку #Skilbox_программирование и история человека который в карантин поменял жизнь из тега #Skillbox_управление имеют хороший результат по показателям. Стоит подобные истории выпускать чаще."
   ]
  },
  {
   "cell_type": "code",
   "execution_count": null,
   "id": "e4cb357e",
   "metadata": {},
   "outputs": [],
   "source": []
  },
  {
   "cell_type": "code",
   "execution_count": null,
   "id": "b5c49e93",
   "metadata": {},
   "outputs": [],
   "source": []
  }
 ],
 "metadata": {
  "kernelspec": {
   "display_name": "Python 3 (ipykernel)",
   "language": "python",
   "name": "python3"
  },
  "language_info": {
   "codemirror_mode": {
    "name": "ipython",
    "version": 3
   },
   "file_extension": ".py",
   "mimetype": "text/x-python",
   "name": "python",
   "nbconvert_exporter": "python",
   "pygments_lexer": "ipython3",
   "version": "3.9.12"
  }
 },
 "nbformat": 4,
 "nbformat_minor": 5
}
