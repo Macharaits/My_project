{
  "nbformat": 4,
  "nbformat_minor": 0,
  "metadata": {
    "colab": {
      "provenance": []
    },
    "kernelspec": {
      "name": "python3",
      "display_name": "Python 3"
    },
    "language_info": {
      "name": "python"
    }
  },
  "cells": [
    {
      "cell_type": "markdown",
      "source": [
        "# Парсер HeadHunter\n",
        "- ссылка вакансии\n",
        "- название вакансии\n",
        "- название компании\n",
        "- страна\n",
        "- город\n",
        "- зарплата (есть есть отдельный блок в карточке вакансии и зарплату можно вытащить из тега)\n",
        "- количество кандидатов (если есть)\n",
        "- дата публикации вакансии \n",
        "- сфера деятельности компании (если есть)\n",
        "- текст вакансии"
      ],
      "metadata": {
        "id": "YoPXTcpGh7hZ"
      }
    },
    {
      "cell_type": "markdown",
      "source": [
        "### Импорт библиотек"
      ],
      "metadata": {
        "id": "VpqRwF0RiGHG"
      }
    },
    {
      "cell_type": "code",
      "source": [
        "!pip install backoff "
      ],
      "metadata": {
        "colab": {
          "base_uri": "https://localhost:8080/"
        },
        "id": "Mf-3uAhZo_fc",
        "outputId": "42793235-04e4-4191-f9c6-4faceb3a3726"
      },
      "execution_count": null,
      "outputs": [
        {
          "output_type": "stream",
          "name": "stdout",
          "text": [
            "Looking in indexes: https://pypi.org/simple, https://us-python.pkg.dev/colab-wheels/public/simple/\n",
            "Requirement already satisfied: backoff in /usr/local/lib/python3.9/dist-packages (2.2.1)\n"
          ]
        }
      ]
    },
    {
      "cell_type": "code",
      "execution_count": null,
      "metadata": {
        "id": "1QLKuEImfVaQ"
      },
      "outputs": [],
      "source": [
        "import requests\n",
        "import pandas as pd\n",
        "import numpy as np\n",
        "\n",
        "import json\n",
        "from bs4 import BeautifulSoup\n",
        "from datetime import datetime, timedelta\n",
        "import time\n",
        "import os\n",
        "\n",
        "import logging\n",
        "import backoff"
      ]
    },
    {
      "cell_type": "markdown",
      "source": [
        "### Делаем выгрузку из HeadHunter\n",
        "Ссылка на API HH: https://github.com/hhru/api \\\n",
        "Для того, чтобы написать запрос используется язык поисковых запросов, задокументированный тут: https://hh.ru/article/1175 \\\n",
        "Фильтрацию можно делать в самом запросе, например, сделать поиск по полю компаний или же по наличию конкретного текста в описании, где COMPANY_NAME - название компании, а DESCRIPTION - описание вакансии. Язык запросов работает и на обычном сайте hh.ru, что бывает полезно.\n",
        "\n",
        "Создадим необходимые константы: BASE_URL"
      ],
      "metadata": {
        "id": "Vb2ryp8diM25"
      }
    },
    {
      "cell_type": "code",
      "source": [
        "BASE_URL = \"https://api.hh.ru/\"\n",
        "\n",
        "TEXT = (f'SQL NAME:(\"Аналитик\" or \"Analyst\" or \"Data Scientist\"'\n",
        "       'or \"Дата саентист\" or \"ML\")')\n",
        "\n",
        "dt_now = datetime.now().date()\n",
        "dt_from = dt_now - timedelta(days=1)\n",
        "DATE_TO = dt_now.isoformat() #API требует дату в формате ISO 8601 YYYY-MM-DD \n",
        "DATE_FROM = dt_from.isoformat()\n",
        "\n",
        "VAC_URL = (BASE_URL +\n",
        "          f'vacancies?text={TEXT}&date_from={DATE_FROM}&date_to={DATE_TO}'\n",
        "          '&responses_count_enabled=True&per_page=100')"
      ],
      "metadata": {
        "id": "oD1jbu4dfV4Z"
      },
      "execution_count": null,
      "outputs": []
    },
    {
      "cell_type": "code",
      "source": [
        "VAC_URL"
      ],
      "metadata": {
        "colab": {
          "base_uri": "https://localhost:8080/",
          "height": 35
        },
        "id": "5g5i-1-Q8G0l",
        "outputId": "da065331-4411-465d-cf25-d1d5a21e81b6"
      },
      "execution_count": null,
      "outputs": [
        {
          "output_type": "execute_result",
          "data": {
            "text/plain": [
              "'https://api.hh.ru/vacancies?text=SQL NAME:(\"Аналитик\" or \"Analyst\" or \"Data Scientist\"or \"Дата саентист\" or \"ML\")&date_from=2023-04-16&date_to=2023-04-17&responses_count_enabled=True&per_page=100'"
            ],
            "application/vnd.google.colaboratory.intrinsic+json": {
              "type": "string"
            }
          },
          "metadata": {},
          "execution_count": 4
        }
      ]
    },
    {
      "cell_type": "code",
      "source": [
        "vacancy_df = pd.DataFrame() # создаем датафрейм в который будем сохранять наши данные"
      ],
      "metadata": {
        "id": "5NX4lKZofWAI"
      },
      "execution_count": null,
      "outputs": []
    },
    {
      "cell_type": "markdown",
      "source": [
        "В выдаче API HH нет опыта работы, поэтому мы укажем его в запросе самостоятельно.Нам нужны вокансии уровня junior. Оставим вокансии без опыта и с опытом 1-3 года "
      ],
      "metadata": {
        "id": "WjsFFojViRwS"
      }
    },
    {
      "cell_type": "code",
      "source": [
        "# Определение функции-обработчика ошибок\n",
        "@backoff.on_exception(backoff.expo, Exception, max_time=10)\n",
        "def send_get_request(url):\n",
        "    r = requests.get(url)\n",
        "    r.raise_for_status()\n",
        "    return r\n",
        "\n",
        "# Настройка уровня логирования (можно указать другой уровень)\n",
        "logging.basicConfig(level=logging.DEBUG)\n",
        "\n",
        "# Определение URL-строки с GET-параметрами\n",
        "experiences = ['noExperience', 'between1And3']\n",
        "for exp in experiences:\n",
        "    page = 0\n",
        "    url = VAC_URL + f'&experience={exp}'\n",
        "    try:\n",
        "        # Отправка GET-запроса и получение данных с использованием backoff\n",
        "        r = send_get_request(url + f'&page={page}')\n",
        "        data = json.loads(r.text)\n",
        "        logging.debug(f'{exp} - {data[\"pages\"]}')\n",
        "        items = data['items']\n",
        "\n",
        "        # Обработка всех страниц данных\n",
        "        for page in range(1, data['pages']):\n",
        "            r = send_get_request(url + f'&page={page}')\n",
        "            data = json.loads(r.text)\n",
        "            items += data['items']\n",
        "\n",
        "        # Создание DataFrame и добавление столбца с опытом работы\n",
        "        df = pd.DataFrame(items)\n",
        "        df['experience'] = exp\n",
        "\n",
        "        # Объединение с основным DataFrame\n",
        "        vacancy_df = pd.concat([vacancy_df, df])\n",
        "    except Exception as e:\n",
        "        # Логирование ошибки\n",
        "        logging.error(f'{exp} - {e}')"
      ],
      "metadata": {
        "id": "AMz4ONXlfsTL"
      },
      "execution_count": null,
      "outputs": []
    },
    {
      "cell_type": "code",
      "source": [
        "vacancy_df.reset_index(drop=True, inplace=True)"
      ],
      "metadata": {
        "id": "PgtzCdFQfsV1"
      },
      "execution_count": null,
      "outputs": []
    },
    {
      "cell_type": "markdown",
      "source": [
        "### Вытащим ценную информацию из словарей"
      ],
      "metadata": {
        "id": "s9g7AlxRibi5"
      }
    },
    {
      "cell_type": "code",
      "source": [
        "def return_id(x, key='id', nan_value=np.nan):\n",
        "    if x is not None:\n",
        "        return x.get(key, nan_value)\n",
        "    else:\n",
        "        return None"
      ],
      "metadata": {
        "id": "N78_D3FBfsds"
      },
      "execution_count": null,
      "outputs": []
    },
    {
      "cell_type": "code",
      "source": [
        "vacancy_df['company']= vacancy_df['employer'].apply(return_id, key= 'name')\n",
        "vacancy_df['company_field']= vacancy_df['department'].apply(return_id, key= 'name')\n",
        "vacancy_df['salary_from']= vacancy_df['salary'].apply(return_id, key= 'from')\\\n",
        ".astype(str)\n",
        "vacancy_df['salary_to']= vacancy_df['salary'].apply(return_id, key= 'to')\\\n",
        ".astype(str)\n",
        "vacancy_df['currency']= vacancy_df['salary'].apply(return_id, key= 'currency')\n",
        "vacancy_df['salaries'] = (vacancy_df['salary_from'] + '-' +\n",
        "                         vacancy_df['salary_to'] + ' ' +\n",
        "                         vacancy_df['currency'])\n",
        "vacancy_df['location']= vacancy_df['area'].apply(return_id, key= 'name')\n",
        "vacancy_df['job_type']= vacancy_df['employment'].apply(return_id, key= 'name')\n",
        "vacancy_df['skills']= vacancy_df['snippet'].apply(return_id, key= 'requirement')\n",
        "vacancy_df['date']=pd.to_datetime(vacancy_df['published_at']).dt.date"
      ],
      "metadata": {
        "id": "mkNPSLXJgACG"
      },
      "execution_count": null,
      "outputs": []
    },
    {
      "cell_type": "code",
      "source": [
        "# ошибки возникают исключительно если парсинг запускался несколько раз в день - \n",
        "#hh просто блокирует запросы, использование Selenium дает тот же самый результат\n",
        "list_exp = []\n",
        "def get_description(cell):\n",
        "    try:\n",
        "        return BeautifulSoup(json.loads(requests.get(cell).text)['description'])\\\n",
        "        .get_text() \n",
        "    except:\n",
        "        list_exp.append(f'{cell} doesnt work')\n",
        "        return None\n",
        "\n",
        "vacancy_df['description']= vacancy_df['url'].apply(get_description)\n",
        "list_exp"
      ],
      "metadata": {
        "colab": {
          "base_uri": "https://localhost:8080/"
        },
        "id": "c-7QL-QCkT20",
        "outputId": "d2bc7253-cda4-4a1b-e25e-1049dfd04767"
      },
      "execution_count": null,
      "outputs": [
        {
          "output_type": "execute_result",
          "data": {
            "text/plain": [
              "[]"
            ]
          },
          "metadata": {},
          "execution_count": 10
        }
      ]
    },
    {
      "cell_type": "code",
      "source": [
        "#удалим лишний столбец\n",
        "vacancy_df.drop('salary', axis=1, inplace=True)\n",
        "\n",
        "# Переименование столбцов\n",
        "vacancy_df.rename(columns={'name': 'title',\n",
        "                   'alternate_url': 'link',\n",
        "                   'salaries': 'salary'}, inplace=True)\n",
        "# Создание столбцов\n",
        "vacancy_df.loc[:, 'country'] = 'Россия'\n",
        "vacancy_df.loc[:, 'source'] = 'hh'\n",
        "vacancy_df.loc[:, 'skills'] = None"
      ],
      "metadata": {
        "id": "Qn6eo3FXUKtW"
      },
      "execution_count": null,
      "outputs": []
    },
    {
      "cell_type": "markdown",
      "source": [
        "### Посмотрим содержание вакансий"
      ],
      "metadata": {
        "id": "o7qIr1LPilNn"
      }
    },
    {
      "cell_type": "code",
      "source": [
        "# Удаляем лишнее\n",
        "df = vacancy_df[['title',  'company', 'country', 'location', 'salary', 'source',\n",
        "                 'link', 'date', 'company_field', 'description', 'skills',\n",
        "                 'job_type']]"
      ],
      "metadata": {
        "id": "vr5lflbenChy"
      },
      "execution_count": null,
      "outputs": []
    },
    {
      "cell_type": "code",
      "source": [
        "df"
      ],
      "metadata": {
        "colab": {
          "base_uri": "https://localhost:8080/",
          "height": 641
        },
        "id": "AzxiKQEMVz7N",
        "outputId": "ce12b9aa-a5d7-4322-8ac1-785f09ee8c42"
      },
      "execution_count": null,
      "outputs": [
        {
          "output_type": "execute_result",
          "data": {
            "text/plain": [
              "                                                 title             company  \\\n",
              "0                                             Аналитик    SPAR Калининград   \n",
              "1                                             Аналитик  Группа компаний С7   \n",
              "2                                             Аналитик  Группа компаний С7   \n",
              "3                              Аналитик со знанием SQL           ЛОКО-БАНК   \n",
              "4                                      Аналитик данных            BRANDPOL   \n",
              "..                                                 ...                 ...   \n",
              "319  Аналитик данных Управления анализа и мониторин...          АЛЬФА-БАНК   \n",
              "320                                    Аналитик данных    Teamline Consult   \n",
              "321                   Аналитик (Terrasoft Creatio CRM)  АКБ «ЦентроКредит»   \n",
              "322            Аналитик по информационной безопасности      МКБ Инвестиции   \n",
              "323                                           Аналитик  Империал Дьюти Фри   \n",
              "\n",
              "    country      location                 salary source  \\\n",
              "0    Россия   Калининград        69000.0-nan RUR     hh   \n",
              "1    Россия   Новосибирск                    NaN     hh   \n",
              "2    Россия        Москва                    NaN     hh   \n",
              "3    Россия        Самара                    NaN     hh   \n",
              "4    Россия  Екатеринбург    40000.0-80000.0 RUR     hh   \n",
              "..      ...           ...                    ...    ...   \n",
              "319  Россия         Минск                    NaN     hh   \n",
              "320  Россия        Москва       150000.0-nan RUR     hh   \n",
              "321  Россия        Москва                    NaN     hh   \n",
              "322  Россия        Москва                    NaN     hh   \n",
              "323  Россия         Химки  115500.0-115500.0 RUR     hh   \n",
              "\n",
              "                               link        date company_field  \\\n",
              "0    https://hh.ru/vacancy/78754789  2023-04-17          None   \n",
              "1    https://hh.ru/vacancy/67116979  2023-04-17          None   \n",
              "2    https://hh.ru/vacancy/67116978  2023-04-17          None   \n",
              "3    https://hh.ru/vacancy/79388365  2023-04-17          None   \n",
              "4    https://hh.ru/vacancy/78721623  2023-04-17          None   \n",
              "..                              ...         ...           ...   \n",
              "319  https://hh.ru/vacancy/78665018  2023-04-16          None   \n",
              "320  https://hh.ru/vacancy/78691511  2023-04-16          None   \n",
              "321  https://hh.ru/vacancy/77498276  2023-04-17          None   \n",
              "322  https://hh.ru/vacancy/78686608  2023-04-17          None   \n",
              "323  https://hh.ru/vacancy/79214982  2023-04-17          None   \n",
              "\n",
              "                                           description skills  \\\n",
              "0    ТС «SPAR-Калининград» ищет в свою команду колл...   None   \n",
              "1    ЗАО «Группа компаний С7» (S7 Group) — управляю...   None   \n",
              "2    ЗАО «Группа компаний С7» (S7 Group) — управляю...   None   \n",
              "3    Мы ждем от соискателя:  Опыт написания SQL-зап...   None   \n",
              "4    Мы международная команда единомышленников: юри...   None   \n",
              "..                                                 ...    ...   \n",
              "319  Приглашаем в команду Управления анализа и мони...   None   \n",
              "320  Цель Сбера сейчас — это создание аналитических...   None   \n",
              "321  Банку требуется специалист отдела информационн...   None   \n",
              "322  Обязанности:  Анализ информационных систем на ...   None   \n",
              "323  Обязанности:   Формирование регулярной отчетно...   None   \n",
              "\n",
              "             job_type  \n",
              "0    Полная занятость  \n",
              "1    Полная занятость  \n",
              "2    Полная занятость  \n",
              "3    Полная занятость  \n",
              "4    Полная занятость  \n",
              "..                ...  \n",
              "319  Полная занятость  \n",
              "320  Полная занятость  \n",
              "321  Полная занятость  \n",
              "322  Полная занятость  \n",
              "323  Полная занятость  \n",
              "\n",
              "[324 rows x 12 columns]"
            ],
            "text/html": [
              "\n",
              "  <div id=\"df-8c4b6638-a1ad-4441-91f8-f3e68f713093\">\n",
              "    <div class=\"colab-df-container\">\n",
              "      <div>\n",
              "<style scoped>\n",
              "    .dataframe tbody tr th:only-of-type {\n",
              "        vertical-align: middle;\n",
              "    }\n",
              "\n",
              "    .dataframe tbody tr th {\n",
              "        vertical-align: top;\n",
              "    }\n",
              "\n",
              "    .dataframe thead th {\n",
              "        text-align: right;\n",
              "    }\n",
              "</style>\n",
              "<table border=\"1\" class=\"dataframe\">\n",
              "  <thead>\n",
              "    <tr style=\"text-align: right;\">\n",
              "      <th></th>\n",
              "      <th>title</th>\n",
              "      <th>company</th>\n",
              "      <th>country</th>\n",
              "      <th>location</th>\n",
              "      <th>salary</th>\n",
              "      <th>source</th>\n",
              "      <th>link</th>\n",
              "      <th>date</th>\n",
              "      <th>company_field</th>\n",
              "      <th>description</th>\n",
              "      <th>skills</th>\n",
              "      <th>job_type</th>\n",
              "    </tr>\n",
              "  </thead>\n",
              "  <tbody>\n",
              "    <tr>\n",
              "      <th>0</th>\n",
              "      <td>Аналитик</td>\n",
              "      <td>SPAR Калининград</td>\n",
              "      <td>Россия</td>\n",
              "      <td>Калининград</td>\n",
              "      <td>69000.0-nan RUR</td>\n",
              "      <td>hh</td>\n",
              "      <td>https://hh.ru/vacancy/78754789</td>\n",
              "      <td>2023-04-17</td>\n",
              "      <td>None</td>\n",
              "      <td>ТС «SPAR-Калининград» ищет в свою команду колл...</td>\n",
              "      <td>None</td>\n",
              "      <td>Полная занятость</td>\n",
              "    </tr>\n",
              "    <tr>\n",
              "      <th>1</th>\n",
              "      <td>Аналитик</td>\n",
              "      <td>Группа компаний С7</td>\n",
              "      <td>Россия</td>\n",
              "      <td>Новосибирск</td>\n",
              "      <td>NaN</td>\n",
              "      <td>hh</td>\n",
              "      <td>https://hh.ru/vacancy/67116979</td>\n",
              "      <td>2023-04-17</td>\n",
              "      <td>None</td>\n",
              "      <td>ЗАО «Группа компаний С7» (S7 Group) — управляю...</td>\n",
              "      <td>None</td>\n",
              "      <td>Полная занятость</td>\n",
              "    </tr>\n",
              "    <tr>\n",
              "      <th>2</th>\n",
              "      <td>Аналитик</td>\n",
              "      <td>Группа компаний С7</td>\n",
              "      <td>Россия</td>\n",
              "      <td>Москва</td>\n",
              "      <td>NaN</td>\n",
              "      <td>hh</td>\n",
              "      <td>https://hh.ru/vacancy/67116978</td>\n",
              "      <td>2023-04-17</td>\n",
              "      <td>None</td>\n",
              "      <td>ЗАО «Группа компаний С7» (S7 Group) — управляю...</td>\n",
              "      <td>None</td>\n",
              "      <td>Полная занятость</td>\n",
              "    </tr>\n",
              "    <tr>\n",
              "      <th>3</th>\n",
              "      <td>Аналитик со знанием SQL</td>\n",
              "      <td>ЛОКО-БАНК</td>\n",
              "      <td>Россия</td>\n",
              "      <td>Самара</td>\n",
              "      <td>NaN</td>\n",
              "      <td>hh</td>\n",
              "      <td>https://hh.ru/vacancy/79388365</td>\n",
              "      <td>2023-04-17</td>\n",
              "      <td>None</td>\n",
              "      <td>Мы ждем от соискателя:  Опыт написания SQL-зап...</td>\n",
              "      <td>None</td>\n",
              "      <td>Полная занятость</td>\n",
              "    </tr>\n",
              "    <tr>\n",
              "      <th>4</th>\n",
              "      <td>Аналитик данных</td>\n",
              "      <td>BRANDPOL</td>\n",
              "      <td>Россия</td>\n",
              "      <td>Екатеринбург</td>\n",
              "      <td>40000.0-80000.0 RUR</td>\n",
              "      <td>hh</td>\n",
              "      <td>https://hh.ru/vacancy/78721623</td>\n",
              "      <td>2023-04-17</td>\n",
              "      <td>None</td>\n",
              "      <td>Мы международная команда единомышленников: юри...</td>\n",
              "      <td>None</td>\n",
              "      <td>Полная занятость</td>\n",
              "    </tr>\n",
              "    <tr>\n",
              "      <th>...</th>\n",
              "      <td>...</td>\n",
              "      <td>...</td>\n",
              "      <td>...</td>\n",
              "      <td>...</td>\n",
              "      <td>...</td>\n",
              "      <td>...</td>\n",
              "      <td>...</td>\n",
              "      <td>...</td>\n",
              "      <td>...</td>\n",
              "      <td>...</td>\n",
              "      <td>...</td>\n",
              "      <td>...</td>\n",
              "    </tr>\n",
              "    <tr>\n",
              "      <th>319</th>\n",
              "      <td>Аналитик данных Управления анализа и мониторин...</td>\n",
              "      <td>АЛЬФА-БАНК</td>\n",
              "      <td>Россия</td>\n",
              "      <td>Минск</td>\n",
              "      <td>NaN</td>\n",
              "      <td>hh</td>\n",
              "      <td>https://hh.ru/vacancy/78665018</td>\n",
              "      <td>2023-04-16</td>\n",
              "      <td>None</td>\n",
              "      <td>Приглашаем в команду Управления анализа и мони...</td>\n",
              "      <td>None</td>\n",
              "      <td>Полная занятость</td>\n",
              "    </tr>\n",
              "    <tr>\n",
              "      <th>320</th>\n",
              "      <td>Аналитик данных</td>\n",
              "      <td>Teamline Consult</td>\n",
              "      <td>Россия</td>\n",
              "      <td>Москва</td>\n",
              "      <td>150000.0-nan RUR</td>\n",
              "      <td>hh</td>\n",
              "      <td>https://hh.ru/vacancy/78691511</td>\n",
              "      <td>2023-04-16</td>\n",
              "      <td>None</td>\n",
              "      <td>Цель Сбера сейчас — это создание аналитических...</td>\n",
              "      <td>None</td>\n",
              "      <td>Полная занятость</td>\n",
              "    </tr>\n",
              "    <tr>\n",
              "      <th>321</th>\n",
              "      <td>Аналитик (Terrasoft Creatio CRM)</td>\n",
              "      <td>АКБ «ЦентроКредит»</td>\n",
              "      <td>Россия</td>\n",
              "      <td>Москва</td>\n",
              "      <td>NaN</td>\n",
              "      <td>hh</td>\n",
              "      <td>https://hh.ru/vacancy/77498276</td>\n",
              "      <td>2023-04-17</td>\n",
              "      <td>None</td>\n",
              "      <td>Банку требуется специалист отдела информационн...</td>\n",
              "      <td>None</td>\n",
              "      <td>Полная занятость</td>\n",
              "    </tr>\n",
              "    <tr>\n",
              "      <th>322</th>\n",
              "      <td>Аналитик по информационной безопасности</td>\n",
              "      <td>МКБ Инвестиции</td>\n",
              "      <td>Россия</td>\n",
              "      <td>Москва</td>\n",
              "      <td>NaN</td>\n",
              "      <td>hh</td>\n",
              "      <td>https://hh.ru/vacancy/78686608</td>\n",
              "      <td>2023-04-17</td>\n",
              "      <td>None</td>\n",
              "      <td>Обязанности:  Анализ информационных систем на ...</td>\n",
              "      <td>None</td>\n",
              "      <td>Полная занятость</td>\n",
              "    </tr>\n",
              "    <tr>\n",
              "      <th>323</th>\n",
              "      <td>Аналитик</td>\n",
              "      <td>Империал Дьюти Фри</td>\n",
              "      <td>Россия</td>\n",
              "      <td>Химки</td>\n",
              "      <td>115500.0-115500.0 RUR</td>\n",
              "      <td>hh</td>\n",
              "      <td>https://hh.ru/vacancy/79214982</td>\n",
              "      <td>2023-04-17</td>\n",
              "      <td>None</td>\n",
              "      <td>Обязанности:   Формирование регулярной отчетно...</td>\n",
              "      <td>None</td>\n",
              "      <td>Полная занятость</td>\n",
              "    </tr>\n",
              "  </tbody>\n",
              "</table>\n",
              "<p>324 rows × 12 columns</p>\n",
              "</div>\n",
              "      <button class=\"colab-df-convert\" onclick=\"convertToInteractive('df-8c4b6638-a1ad-4441-91f8-f3e68f713093')\"\n",
              "              title=\"Convert this dataframe to an interactive table.\"\n",
              "              style=\"display:none;\">\n",
              "        \n",
              "  <svg xmlns=\"http://www.w3.org/2000/svg\" height=\"24px\"viewBox=\"0 0 24 24\"\n",
              "       width=\"24px\">\n",
              "    <path d=\"M0 0h24v24H0V0z\" fill=\"none\"/>\n",
              "    <path d=\"M18.56 5.44l.94 2.06.94-2.06 2.06-.94-2.06-.94-.94-2.06-.94 2.06-2.06.94zm-11 1L8.5 8.5l.94-2.06 2.06-.94-2.06-.94L8.5 2.5l-.94 2.06-2.06.94zm10 10l.94 2.06.94-2.06 2.06-.94-2.06-.94-.94-2.06-.94 2.06-2.06.94z\"/><path d=\"M17.41 7.96l-1.37-1.37c-.4-.4-.92-.59-1.43-.59-.52 0-1.04.2-1.43.59L10.3 9.45l-7.72 7.72c-.78.78-.78 2.05 0 2.83L4 21.41c.39.39.9.59 1.41.59.51 0 1.02-.2 1.41-.59l7.78-7.78 2.81-2.81c.8-.78.8-2.07 0-2.86zM5.41 20L4 18.59l7.72-7.72 1.47 1.35L5.41 20z\"/>\n",
              "  </svg>\n",
              "      </button>\n",
              "      \n",
              "  <style>\n",
              "    .colab-df-container {\n",
              "      display:flex;\n",
              "      flex-wrap:wrap;\n",
              "      gap: 12px;\n",
              "    }\n",
              "\n",
              "    .colab-df-convert {\n",
              "      background-color: #E8F0FE;\n",
              "      border: none;\n",
              "      border-radius: 50%;\n",
              "      cursor: pointer;\n",
              "      display: none;\n",
              "      fill: #1967D2;\n",
              "      height: 32px;\n",
              "      padding: 0 0 0 0;\n",
              "      width: 32px;\n",
              "    }\n",
              "\n",
              "    .colab-df-convert:hover {\n",
              "      background-color: #E2EBFA;\n",
              "      box-shadow: 0px 1px 2px rgba(60, 64, 67, 0.3), 0px 1px 3px 1px rgba(60, 64, 67, 0.15);\n",
              "      fill: #174EA6;\n",
              "    }\n",
              "\n",
              "    [theme=dark] .colab-df-convert {\n",
              "      background-color: #3B4455;\n",
              "      fill: #D2E3FC;\n",
              "    }\n",
              "\n",
              "    [theme=dark] .colab-df-convert:hover {\n",
              "      background-color: #434B5C;\n",
              "      box-shadow: 0px 1px 3px 1px rgba(0, 0, 0, 0.15);\n",
              "      filter: drop-shadow(0px 1px 2px rgba(0, 0, 0, 0.3));\n",
              "      fill: #FFFFFF;\n",
              "    }\n",
              "  </style>\n",
              "\n",
              "      <script>\n",
              "        const buttonEl =\n",
              "          document.querySelector('#df-8c4b6638-a1ad-4441-91f8-f3e68f713093 button.colab-df-convert');\n",
              "        buttonEl.style.display =\n",
              "          google.colab.kernel.accessAllowed ? 'block' : 'none';\n",
              "\n",
              "        async function convertToInteractive(key) {\n",
              "          const element = document.querySelector('#df-8c4b6638-a1ad-4441-91f8-f3e68f713093');\n",
              "          const dataTable =\n",
              "            await google.colab.kernel.invokeFunction('convertToInteractive',\n",
              "                                                     [key], {});\n",
              "          if (!dataTable) return;\n",
              "\n",
              "          const docLinkHtml = 'Like what you see? Visit the ' +\n",
              "            '<a target=\"_blank\" href=https://colab.research.google.com/notebooks/data_table.ipynb>data table notebook</a>'\n",
              "            + ' to learn more about interactive tables.';\n",
              "          element.innerHTML = '';\n",
              "          dataTable['output_type'] = 'display_data';\n",
              "          await google.colab.output.renderOutput(dataTable, element);\n",
              "          const docLink = document.createElement('div');\n",
              "          docLink.innerHTML = docLinkHtml;\n",
              "          element.appendChild(docLink);\n",
              "        }\n",
              "      </script>\n",
              "    </div>\n",
              "  </div>\n",
              "  "
            ]
          },
          "metadata": {},
          "execution_count": 13
        }
      ]
    },
    {
      "cell_type": "code",
      "source": [
        "from google.colab import drive"
      ],
      "metadata": {
        "colab": {
          "base_uri": "https://localhost:8080/"
        },
        "id": "Na4qTsZwmeVQ",
        "outputId": "3c44f7ab-3cc7-4847-95e6-cc45ed4aca83"
      },
      "execution_count": null,
      "outputs": [
        {
          "output_type": "stream",
          "name": "stdout",
          "text": [
            "Mounted at /content/drive\n"
          ]
        }
      ]
    },
    {
      "cell_type": "code",
      "source": [
        "from datetime import date\n",
        "from google.colab import drive\n",
        "drive.mount(\"/content/drive\")\n",
        "df.to_csv (f'/content/drive/MyDrive/hh_{date.today()}.csv', index = None, \n",
        "           header=True,  encoding='utf-8')"
      ],
      "metadata": {
        "colab": {
          "base_uri": "https://localhost:8080/"
        },
        "id": "m-ZnxazOnV_E",
        "outputId": "32f2837d-f992-4129-8c6a-85e95b53c827"
      },
      "execution_count": null,
      "outputs": [
        {
          "output_type": "stream",
          "name": "stdout",
          "text": [
            "Файл успешно сохранен как: /content/drive/MyDrive/hh_2023-04-17.csv\n"
          ]
        }
      ]
    }
  ]
}