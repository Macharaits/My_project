{
  "nbformat": 4,
  "nbformat_minor": 0,
  "metadata": {
    "colab": {
      "provenance": []
    },
    "kernelspec": {
      "name": "python3",
      "display_name": "Python 3"
    },
    "language_info": {
      "name": "python"
    }
  },
  "cells": [
    {
      "cell_type": "code",
      "execution_count": null,
      "metadata": {
        "id": "HaEtRNsUJZuT"
      },
      "outputs": [],
      "source": [
        "!pip install pandahouse"
      ]
    },
    {
      "cell_type": "code",
      "source": [
        "!pip install swifter"
      ],
      "metadata": {
        "id": "V51X1_zWKK4p"
      },
      "execution_count": null,
      "outputs": []
    },
    {
      "cell_type": "code",
      "source": [
        "import pandas as pd\n",
        "import pandahouse\n",
        "import swifter\n",
        "import hashlib\n",
        "import seaborn as sns\n",
        "from scipy import stats\n",
        "import numpy as np\n",
        "from random import sample\n",
        "import numpy as np\n",
        "from scipy.stats import ttest_ind"
      ],
      "metadata": {
        "id": "JNZJfTm7JaIy"
      },
      "execution_count": 3,
      "outputs": []
    },
    {
      "cell_type": "markdown",
      "source": [
        "#Задание 1"
      ],
      "metadata": {
        "id": "hz8BIchr5NJ7"
      }
    },
    {
      "cell_type": "code",
      "source": [
        "connection = {\n",
        "    'host': 'https://clickhouse.lab.karpov.courses',\n",
        "    'password': 'dpo_python_2020',\n",
        "    'user': 'student',\n",
        "    'database': 'simulator_20230720'\n",
        "}"
      ],
      "metadata": {
        "id": "yJDGfWU3JaLq"
      },
      "execution_count": 4,
      "outputs": []
    },
    {
      "cell_type": "markdown",
      "source": [
        "#Задание 2"
      ],
      "metadata": {
        "id": "p8C3rhkv6Pua"
      }
    },
    {
      "cell_type": "markdown",
      "source": [
        "Пришло время проанализировать результаты эксперимента, который мы провели вместе с командой дата сайентистов. Эксперимент проходил с 2023-06-30 по 2023-07-06 включительно. Для эксперимента были задействованы 2 и 1 группы.\n",
        "\n",
        "В группе 2 был использован один из новых алгоритмов рекомендации постов, группа 1 использовалась в качестве контроля.\n",
        "\n",
        "Основная гипотеза заключается в том, что новый алгоритм во 2-й группе приведет к увеличению CTR.\n",
        "\n",
        "Ваша задача — проанализировать данные АB-теста.\n",
        "\n",
        "Выбрать метод анализа и сравнить CTR в двух группах (мы разбирали t-тест, Пуассоновский бутстреп, тест Манна-Уитни, t-тест на сглаженном ctr (α=5) а также t-тест и тест Манна-Уитни поверх бакетного преобразования).\n",
        "\n",
        "Сравните данные этими тестами. А еще посмотрите на распределения глазами. Почему тесты сработали так как сработали?\n",
        "\n",
        "\n",
        "Опишите потенциальную ситуацию, когда такое изменение могло произойти. Тут нет идеального ответа, подумайте.\n",
        "\n",
        "Напишите рекомендацию, будем ли мы раскатывать новый алгоритм на всех новых пользователей или все-таки не стоит."
      ],
      "metadata": {
        "id": "DqfPotyt7M3y"
      }
    },
    {
      "cell_type": "markdown",
      "source": [
        "* exp_group = 1 - Все по-старому\n",
        "* exp_group = 2 - Новый алгоритм"
      ],
      "metadata": {
        "id": "9AfqYa6IG7EY"
      }
    },
    {
      "cell_type": "code",
      "source": [
        "q = \"\"\"\n",
        "SELECT exp_group,\n",
        "    user_id,\n",
        "    sum(action = 'like') as likes,\n",
        "    sum(action = 'view') as views,\n",
        "    likes/views as ctr\n",
        "FROM {db}.feed_actions\n",
        "WHERE toDate(time) between '2023-06-30' and '2023-07-06'\n",
        "    and exp_group in (1,2)\n",
        "GROUP BY exp_group, user_id\n",
        "\"\"\"\n",
        "# Вытащили пользователей\n",
        "df = pandahouse.read_clickhouse(q, connection=connection)"
      ],
      "metadata": {
        "id": "jqCB7-Xw4ubE"
      },
      "execution_count": 5,
      "outputs": []
    },
    {
      "cell_type": "code",
      "source": [
        "df.head()"
      ],
      "metadata": {
        "colab": {
          "base_uri": "https://localhost:8080/",
          "height": 206
        },
        "id": "MRkaDImqqBlX",
        "outputId": "7b1b80ac-ff4d-4d49-c028-ce5803445293"
      },
      "execution_count": 6,
      "outputs": [
        {
          "output_type": "execute_result",
          "data": {
            "text/plain": [
              "   exp_group  user_id  likes  views       ctr\n",
              "0          1   109963      3     15  0.200000\n",
              "1          1    26117     32    141  0.226950\n",
              "2          1   138232     18     73  0.246575\n",
              "3          1    18392      7     32  0.218750\n",
              "4          1    26295     39    141  0.276596"
            ],
            "text/html": [
              "\n",
              "\n",
              "  <div id=\"df-6ed64760-ef80-4e41-8de8-82df111aca4a\">\n",
              "    <div class=\"colab-df-container\">\n",
              "      <div>\n",
              "<style scoped>\n",
              "    .dataframe tbody tr th:only-of-type {\n",
              "        vertical-align: middle;\n",
              "    }\n",
              "\n",
              "    .dataframe tbody tr th {\n",
              "        vertical-align: top;\n",
              "    }\n",
              "\n",
              "    .dataframe thead th {\n",
              "        text-align: right;\n",
              "    }\n",
              "</style>\n",
              "<table border=\"1\" class=\"dataframe\">\n",
              "  <thead>\n",
              "    <tr style=\"text-align: right;\">\n",
              "      <th></th>\n",
              "      <th>exp_group</th>\n",
              "      <th>user_id</th>\n",
              "      <th>likes</th>\n",
              "      <th>views</th>\n",
              "      <th>ctr</th>\n",
              "    </tr>\n",
              "  </thead>\n",
              "  <tbody>\n",
              "    <tr>\n",
              "      <th>0</th>\n",
              "      <td>1</td>\n",
              "      <td>109963</td>\n",
              "      <td>3</td>\n",
              "      <td>15</td>\n",
              "      <td>0.200000</td>\n",
              "    </tr>\n",
              "    <tr>\n",
              "      <th>1</th>\n",
              "      <td>1</td>\n",
              "      <td>26117</td>\n",
              "      <td>32</td>\n",
              "      <td>141</td>\n",
              "      <td>0.226950</td>\n",
              "    </tr>\n",
              "    <tr>\n",
              "      <th>2</th>\n",
              "      <td>1</td>\n",
              "      <td>138232</td>\n",
              "      <td>18</td>\n",
              "      <td>73</td>\n",
              "      <td>0.246575</td>\n",
              "    </tr>\n",
              "    <tr>\n",
              "      <th>3</th>\n",
              "      <td>1</td>\n",
              "      <td>18392</td>\n",
              "      <td>7</td>\n",
              "      <td>32</td>\n",
              "      <td>0.218750</td>\n",
              "    </tr>\n",
              "    <tr>\n",
              "      <th>4</th>\n",
              "      <td>1</td>\n",
              "      <td>26295</td>\n",
              "      <td>39</td>\n",
              "      <td>141</td>\n",
              "      <td>0.276596</td>\n",
              "    </tr>\n",
              "  </tbody>\n",
              "</table>\n",
              "</div>\n",
              "      <button class=\"colab-df-convert\" onclick=\"convertToInteractive('df-6ed64760-ef80-4e41-8de8-82df111aca4a')\"\n",
              "              title=\"Convert this dataframe to an interactive table.\"\n",
              "              style=\"display:none;\">\n",
              "\n",
              "  <svg xmlns=\"http://www.w3.org/2000/svg\" height=\"24px\"viewBox=\"0 0 24 24\"\n",
              "       width=\"24px\">\n",
              "    <path d=\"M0 0h24v24H0V0z\" fill=\"none\"/>\n",
              "    <path d=\"M18.56 5.44l.94 2.06.94-2.06 2.06-.94-2.06-.94-.94-2.06-.94 2.06-2.06.94zm-11 1L8.5 8.5l.94-2.06 2.06-.94-2.06-.94L8.5 2.5l-.94 2.06-2.06.94zm10 10l.94 2.06.94-2.06 2.06-.94-2.06-.94-.94-2.06-.94 2.06-2.06.94z\"/><path d=\"M17.41 7.96l-1.37-1.37c-.4-.4-.92-.59-1.43-.59-.52 0-1.04.2-1.43.59L10.3 9.45l-7.72 7.72c-.78.78-.78 2.05 0 2.83L4 21.41c.39.39.9.59 1.41.59.51 0 1.02-.2 1.41-.59l7.78-7.78 2.81-2.81c.8-.78.8-2.07 0-2.86zM5.41 20L4 18.59l7.72-7.72 1.47 1.35L5.41 20z\"/>\n",
              "  </svg>\n",
              "      </button>\n",
              "\n",
              "\n",
              "\n",
              "    <div id=\"df-d2cf68db-af4f-4386-b2e7-d1a34fbf3bac\">\n",
              "      <button class=\"colab-df-quickchart\" onclick=\"quickchart('df-d2cf68db-af4f-4386-b2e7-d1a34fbf3bac')\"\n",
              "              title=\"Suggest charts.\"\n",
              "              style=\"display:none;\">\n",
              "\n",
              "<svg xmlns=\"http://www.w3.org/2000/svg\" height=\"24px\"viewBox=\"0 0 24 24\"\n",
              "     width=\"24px\">\n",
              "    <g>\n",
              "        <path d=\"M19 3H5c-1.1 0-2 .9-2 2v14c0 1.1.9 2 2 2h14c1.1 0 2-.9 2-2V5c0-1.1-.9-2-2-2zM9 17H7v-7h2v7zm4 0h-2V7h2v10zm4 0h-2v-4h2v4z\"/>\n",
              "    </g>\n",
              "</svg>\n",
              "      </button>\n",
              "    </div>\n",
              "\n",
              "<style>\n",
              "  .colab-df-quickchart {\n",
              "    background-color: #E8F0FE;\n",
              "    border: none;\n",
              "    border-radius: 50%;\n",
              "    cursor: pointer;\n",
              "    display: none;\n",
              "    fill: #1967D2;\n",
              "    height: 32px;\n",
              "    padding: 0 0 0 0;\n",
              "    width: 32px;\n",
              "  }\n",
              "\n",
              "  .colab-df-quickchart:hover {\n",
              "    background-color: #E2EBFA;\n",
              "    box-shadow: 0px 1px 2px rgba(60, 64, 67, 0.3), 0px 1px 3px 1px rgba(60, 64, 67, 0.15);\n",
              "    fill: #174EA6;\n",
              "  }\n",
              "\n",
              "  [theme=dark] .colab-df-quickchart {\n",
              "    background-color: #3B4455;\n",
              "    fill: #D2E3FC;\n",
              "  }\n",
              "\n",
              "  [theme=dark] .colab-df-quickchart:hover {\n",
              "    background-color: #434B5C;\n",
              "    box-shadow: 0px 1px 3px 1px rgba(0, 0, 0, 0.15);\n",
              "    filter: drop-shadow(0px 1px 2px rgba(0, 0, 0, 0.3));\n",
              "    fill: #FFFFFF;\n",
              "  }\n",
              "</style>\n",
              "\n",
              "    <script>\n",
              "      async function quickchart(key) {\n",
              "        const containerElement = document.querySelector('#' + key);\n",
              "        const charts = await google.colab.kernel.invokeFunction(\n",
              "            'suggestCharts', [key], {});\n",
              "      }\n",
              "    </script>\n",
              "\n",
              "      <script>\n",
              "\n",
              "function displayQuickchartButton(domScope) {\n",
              "  let quickchartButtonEl =\n",
              "    domScope.querySelector('#df-d2cf68db-af4f-4386-b2e7-d1a34fbf3bac button.colab-df-quickchart');\n",
              "  quickchartButtonEl.style.display =\n",
              "    google.colab.kernel.accessAllowed ? 'block' : 'none';\n",
              "}\n",
              "\n",
              "        displayQuickchartButton(document);\n",
              "      </script>\n",
              "      <style>\n",
              "    .colab-df-container {\n",
              "      display:flex;\n",
              "      flex-wrap:wrap;\n",
              "      gap: 12px;\n",
              "    }\n",
              "\n",
              "    .colab-df-convert {\n",
              "      background-color: #E8F0FE;\n",
              "      border: none;\n",
              "      border-radius: 50%;\n",
              "      cursor: pointer;\n",
              "      display: none;\n",
              "      fill: #1967D2;\n",
              "      height: 32px;\n",
              "      padding: 0 0 0 0;\n",
              "      width: 32px;\n",
              "    }\n",
              "\n",
              "    .colab-df-convert:hover {\n",
              "      background-color: #E2EBFA;\n",
              "      box-shadow: 0px 1px 2px rgba(60, 64, 67, 0.3), 0px 1px 3px 1px rgba(60, 64, 67, 0.15);\n",
              "      fill: #174EA6;\n",
              "    }\n",
              "\n",
              "    [theme=dark] .colab-df-convert {\n",
              "      background-color: #3B4455;\n",
              "      fill: #D2E3FC;\n",
              "    }\n",
              "\n",
              "    [theme=dark] .colab-df-convert:hover {\n",
              "      background-color: #434B5C;\n",
              "      box-shadow: 0px 1px 3px 1px rgba(0, 0, 0, 0.15);\n",
              "      filter: drop-shadow(0px 1px 2px rgba(0, 0, 0, 0.3));\n",
              "      fill: #FFFFFF;\n",
              "    }\n",
              "  </style>\n",
              "\n",
              "      <script>\n",
              "        const buttonEl =\n",
              "          document.querySelector('#df-6ed64760-ef80-4e41-8de8-82df111aca4a button.colab-df-convert');\n",
              "        buttonEl.style.display =\n",
              "          google.colab.kernel.accessAllowed ? 'block' : 'none';\n",
              "\n",
              "        async function convertToInteractive(key) {\n",
              "          const element = document.querySelector('#df-6ed64760-ef80-4e41-8de8-82df111aca4a');\n",
              "          const dataTable =\n",
              "            await google.colab.kernel.invokeFunction('convertToInteractive',\n",
              "                                                     [key], {});\n",
              "          if (!dataTable) return;\n",
              "\n",
              "          const docLinkHtml = 'Like what you see? Visit the ' +\n",
              "            '<a target=\"_blank\" href=https://colab.research.google.com/notebooks/data_table.ipynb>data table notebook</a>'\n",
              "            + ' to learn more about interactive tables.';\n",
              "          element.innerHTML = '';\n",
              "          dataTable['output_type'] = 'display_data';\n",
              "          await google.colab.output.renderOutput(dataTable, element);\n",
              "          const docLink = document.createElement('div');\n",
              "          docLink.innerHTML = docLinkHtml;\n",
              "          element.appendChild(docLink);\n",
              "        }\n",
              "      </script>\n",
              "    </div>\n",
              "  </div>\n"
            ]
          },
          "metadata": {},
          "execution_count": 6
        }
      ]
    },
    {
      "cell_type": "code",
      "source": [
        "groups = sns.histplot(data = df,\n",
        "              x='ctr',\n",
        "              hue='exp_group',\n",
        "              palette = ['r', 'b'],\n",
        "              alpha=0.5,\n",
        "              kde=False)"
      ],
      "metadata": {
        "colab": {
          "base_uri": "https://localhost:8080/",
          "height": 449
        },
        "id": "wGxxXszXGLug",
        "outputId": "fadb9c27-e97f-40a8-af85-11f02544d76a"
      },
      "execution_count": null,
      "outputs": [
        {
          "output_type": "display_data",
          "data": {
            "text/plain": [
              "<Figure size 640x480 with 1 Axes>"
            ],
            "image/png": "[encoded data removed]"
          },
          "metadata": {}
        }
      ]
    },
    {
      "cell_type": "markdown",
      "source": [
        "из графика видно что в двух группах много разных значений можно использовать тест мана-витни и проверим т-тест"
      ],
      "metadata": {
        "id": "dVUZhZYYEM75"
      }
    },
    {
      "cell_type": "code",
      "source": [
        "#T-тест\n",
        "stats.ttest_ind(df[df.exp_group == 1].ctr,\n",
        "                df[df.exp_group == 2].ctr,\n",
        "                equal_var=False)"
      ],
      "metadata": {
        "colab": {
          "base_uri": "https://localhost:8080/"
        },
        "id": "mt6fjlYJp8Qf",
        "outputId": "8dcaedae-9e4b-4e41-de97-13af11190e43"
      },
      "execution_count": 8,
      "outputs": [
        {
          "output_type": "execute_result",
          "data": {
            "text/plain": [
              "Ttest_indResult(statistic=0.4051491913112757, pvalue=0.685373331140751)"
            ]
          },
          "metadata": {},
          "execution_count": 8
        }
      ]
    },
    {
      "cell_type": "markdown",
      "source": [
        "Статистика теста (statistic):\n",
        "Значение статистики t (в данном случае 0.405) показывает, как сильно различаются средние значения между двумя группами. В данном контексте, значение статистики близко к нулю, что указывает на то, что средние значения CTR (отношение кликов к просмотрам) в группах 1 и 2 не сильно различаются друг от друга.\n",
        "\n",
        "P-value (pvalue):\n",
        "Значение p-value (в данном случае 0.685) является вероятностью получить такие же или более экстремальные различия между группами, какие были наблюдены в эксперименте, при условии, что нулевая гипотеза верна. Нулевая гипотеза в данном случае гласит, что нет статистически значимого различия между средними значениями CTR в двух группах (новый алгоритм не влияет на CTR). Чем выше p-value, тем более вероятно, что нулевая гипотеза верна.\n",
        "\n",
        "Интерпретация:\n",
        "\n",
        "Если p-value > 0.05 (уровень значимости), то результаты теста не дают оснований отвергнуть нулевую гипотезу. В данном случае p-value равно 0.685, что гораздо больше 0.05, следовательно, результаты теста не дают оснований считать различия между группами статистически значимыми.\n",
        "Следовательно, на основе данных этого t-теста нет статистических доказательств, что новый алгоритм рекомендации постов в группе 2 привел к увеличению CTR по сравнению с группой 1."
      ],
      "metadata": {
        "id": "xZLv4IzOI8Cn"
      }
    },
    {
      "cell_type": "code",
      "source": [
        "stats.mannwhitneyu(df[df.exp_group == 1].ctr,\n",
        "                   df[df.exp_group == 2].ctr,\n",
        "                   alternative = 'two-sided')"
      ],
      "metadata": {
        "colab": {
          "base_uri": "https://localhost:8080/"
        },
        "id": "CIdLgE2eEMKp",
        "outputId": "c544c42d-c8df-4127-ffdd-5805c68b987a"
      },
      "execution_count": 9,
      "outputs": [
        {
          "output_type": "execute_result",
          "data": {
            "text/plain": [
              "MannwhitneyuResult(statistic=55189913.0, pvalue=4.632205841806026e-45)"
            ]
          },
          "metadata": {},
          "execution_count": 9
        }
      ]
    },
    {
      "cell_type": "markdown",
      "source": [
        "Таким образом, на основе результатов теста Манна-Уитни, можно сделать вывод, что новый алгоритм рекомендации постов во 2-й группе привел к статистически значимому уменьшению CTR по сравнению с группой 1 (контрольной группой). Это отрицательный результат,\n",
        "\n",
        "\n",
        "Рассмотрите другие методы:\n",
        "\n",
        "Если у вас есть перекос в данных и много выбросов, тесты на сглаженном CTR, бутстреп или бакетное преобразование могут быть более устойчивыми к таким выбросам и дадут более надежные результаты.\n",
        "\n",
        "Для более детального анализа возьмем бакетное преобразование с Манна-Уитни, т.к у нас есть не равномерное распределение ctr во 2 группе, а  бакетное преобразование позволит нам сгладить этот момент. Посмотрим верно ли гипотеза"
      ],
      "metadata": {
        "id": "kbBMXQ67JluP"
      }
    },
    {
      "cell_type": "code",
      "source": [
        "q = \"\"\"\n",
        "SELECT exp_group, bucket,\n",
        "    sum(likes)/sum(views) as bucket_ctr,\n",
        "    quantileExact(0.9)(ctr) as ctr9\n",
        "FROM (SELECT exp_group,\n",
        "        xxHash64(user_id)%50 as bucket,\n",
        "        user_id,\n",
        "        sum(action = 'like') as likes,\n",
        "        sum(action = 'view') as views,\n",
        "        likes/views as ctr\n",
        "    FROM {db}.feed_actions\n",
        "    WHERE toDate(time) between '2023-06-30' and '2023-07-06'\n",
        "        and exp_group in (1,2)\n",
        "    GROUP BY exp_group, bucket, user_id)\n",
        "GROUP BY exp_group, bucket\n",
        "\"\"\"\n",
        "\n",
        "df = pandahouse.read_clickhouse(q, connection=connection)\n",
        "\n",
        "#тест Манна-Уитни видит отличие\n",
        "stats.mannwhitneyu(df[df.exp_group == 1].bucket_ctr,\n",
        "                   df[df.exp_group == 2].bucket_ctr,\n",
        "                   alternative = 'two-sided')"
      ],
      "metadata": {
        "colab": {
          "base_uri": "https://localhost:8080/"
        },
        "id": "JQ9LFNa6JlcY",
        "outputId": "829b6e59-6962-408c-8add-0bdec2bc0e8b"
      },
      "execution_count": 10,
      "outputs": [
        {
          "output_type": "execute_result",
          "data": {
            "text/plain": [
              "MannwhitneyuResult(statistic=1997.0, pvalue=2.6576427804010095e-07)"
            ]
          },
          "metadata": {},
          "execution_count": 10
        }
      ]
    },
    {
      "cell_type": "code",
      "source": [
        "sns.histplot(df[df.exp_group == 1].bucket_ctr, bins=20)"
      ],
      "metadata": {
        "colab": {
          "base_uri": "https://localhost:8080/",
          "height": 468
        },
        "id": "qSdfceN_rKB1",
        "outputId": "6fd68cf3-a50a-4d80-868b-232a89154ce7"
      },
      "execution_count": 11,
      "outputs": [
        {
          "output_type": "execute_result",
          "data": {
            "text/plain": [
              "<Axes: xlabel='bucket_ctr', ylabel='Count'>"
            ]
          },
          "metadata": {},
          "execution_count": 11
        },
        {
          "output_type": "display_data",
          "data": {
            "text/plain": [
              "<Figure size 640x480 with 1 Axes>"
            ],
            "image/png": "[encoded data removed]"
          },
          "metadata": {}
        }
      ]
    },
    {
      "cell_type": "markdown",
      "source": [
        "Распределение не слишком перекошено, нормально"
      ],
      "metadata": {
        "id": "31GczsQktRZK"
      }
    },
    {
      "cell_type": "code",
      "source": [
        "sns.histplot(df[df.exp_group == 2].ctr9)"
      ],
      "metadata": {
        "colab": {
          "base_uri": "https://localhost:8080/",
          "height": 467
        },
        "id": "K3hrxbhZrXCE",
        "outputId": "8fd1f46d-13f7-4909-f178-c1968453c5a4"
      },
      "execution_count": 12,
      "outputs": [
        {
          "output_type": "execute_result",
          "data": {
            "text/plain": [
              "<Axes: xlabel='ctr9', ylabel='Count'>"
            ]
          },
          "metadata": {},
          "execution_count": 12
        },
        {
          "output_type": "display_data",
          "data": {
            "text/plain": [
              "<Figure size 640x480 with 1 Axes>"
            ],
            "image/png": "[encoded data removed]"
          },
          "metadata": {}
        }
      ]
    },
    {
      "cell_type": "code",
      "source": [
        "#тест Манна-Уитни видит отличие\n",
        "stats.mannwhitneyu(df[df.exp_group == 1].ctr9,\n",
        "                   df[df.exp_group == 2].ctr9,\n",
        "                   alternative = 'two-sided')"
      ],
      "metadata": {
        "colab": {
          "base_uri": "https://localhost:8080/"
        },
        "id": "vsTwTFZO8g_H",
        "outputId": "7374d1b3-c835-474f-edc6-d2a5c3f5a73d"
      },
      "execution_count": 13,
      "outputs": [
        {
          "output_type": "execute_result",
          "data": {
            "text/plain": [
              "MannwhitneyuResult(statistic=0.0, pvalue=6.7601631082665925e-18)"
            ]
          },
          "metadata": {},
          "execution_count": 13
        }
      ]
    },
    {
      "cell_type": "markdown",
      "source": [
        "По предоставленным результатам теста Манна-Уитни, видно, что тест обнаружил статистически значимое отличие между значениями CTR9 (90-й перцентиль CTR) в двух группах (группа 1 и группа 2). Значение p-value равно 6.7601631082665925e-18, что гораздо меньше уровня значимости 0.05. Это говорит о том, что различие между значениями CTR9 в двух группах является статистически значимым."
      ],
      "metadata": {
        "id": "niJfuyfiumCb"
      }
    },
    {
      "cell_type": "markdown",
      "source": [
        "Опишите потенциальную ситуацию, когда такое изменение могло произойти. Тут нет идеального ответа, подумайте.\n",
        "\n",
        "- новый алгоритм не учитывает потребности всех пользователей мы видим, что во 2 группе есть две крайности, можно предположить, что в группе есть разногласия и, например были выбраны пользователи не одинаковой возрастной группы, пола и т.д.\n",
        "- может быть алгоритм выдавал рандомные посты и рекомендации, которые крайне неэффективны  \n",
        "\n",
        "Напишите рекомендацию, будем ли мы раскатывать новый алгоритм на всех новых пользователей или все-таки не стоит.\n",
        "- Я не рекомендую раскатывать новый алгоритм на всех пользователей. Тест нужно доработать есть много выбросов/нестабильных значений\n",
        "\n"
      ],
      "metadata": {
        "id": "lvNghCfbrSxG"
      }
    }
  ]
}