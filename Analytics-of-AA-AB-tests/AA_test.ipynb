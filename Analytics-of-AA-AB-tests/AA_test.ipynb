{
  "cells": [
    {
      "cell_type": "code",
      "execution_count": 3,
      "id": "b2b57b54-a47a-43d7-aa7d-63379f45c73a",
      "metadata": {
        "id": "b2b57b54-a47a-43d7-aa7d-63379f45c73a"
      },
      "outputs": [],
      "source": [
        "import pandas as pd\n",
        "import pandahouse\n",
        "import swifter #Ускоряет метод apply\n",
        "import hashlib #Делает хеши\n",
        "import seaborn as sns\n",
        "from scipy import stats #Статистика\n",
        "import numpy as np\n",
        "from random import sample\n",
        "import numpy as np\n",
        "from scipy.stats import ttest_ind\n",
        "from typing import List"
      ]
    },
    {
      "cell_type": "code",
      "execution_count": 4,
      "id": "b39bbe81-4048-4468-af35-92d6b733975e",
      "metadata": {
        "id": "b39bbe81-4048-4468-af35-92d6b733975e"
      },
      "outputs": [],
      "source": [
        "connection = {\n",
        "    'host': 'https://clickhouse.lab.karpov.courses',\n",
        "    'password': 'dpo_python_2020',\n",
        "    'user': 'student',\n",
        "    'database': 'simulator_20230720'\n",
        "}"
      ]
    },
    {
      "cell_type": "code",
      "execution_count": 5,
      "id": "2e115bbc-9677-4730-b568-7f8900072662",
      "metadata": {
        "id": "2e115bbc-9677-4730-b568-7f8900072662"
      },
      "outputs": [],
      "source": [
        " q = \"\"\"\n",
        "    select user_id,\n",
        "           exp_group,\n",
        "           countIf(action='like') as likes,\n",
        "           countIf(action='view') as views,\n",
        "           likes / views as ctr\n",
        "    from {db}.feed_actions\n",
        "    where toDate(time) >= '2023-06-23' and toDate(time) <= '2023-06-29'\n",
        "    and exp_group in (2, 3)\n",
        "    group by exp_group, user_id\n",
        "    \"\"\""
      ]
    },
    {
      "cell_type": "code",
      "execution_count": 6,
      "id": "20c9ebcf-47e7-46a1-935d-0e1778872981",
      "metadata": {
        "id": "20c9ebcf-47e7-46a1-935d-0e1778872981"
      },
      "outputs": [],
      "source": [
        " df_aa = pandahouse.read_clickhouse(q, connection=connection)"
      ]
    },
    {
      "cell_type": "code",
      "execution_count": 7,
      "id": "56254396-2e1d-4169-bb7e-c47c27bc44fa",
      "metadata": {
        "colab": {
          "base_uri": "https://localhost:8080/",
          "height": 424
        },
        "id": "56254396-2e1d-4169-bb7e-c47c27bc44fa",
        "outputId": "bfe11972-595f-4724-e592-2f82b298d51b"
      },
      "outputs": [
        {
          "output_type": "execute_result",
          "data": {
            "text/plain": [
              "       user_id  exp_group  likes  views       ctr\n",
              "0       115383          3     38    248  0.153226\n",
              "1        10326          3     24    132  0.181818\n",
              "2       123580          3     25    122  0.204918\n",
              "3       131473          2     19     98  0.193878\n",
              "4        23985          2     12     44  0.272727\n",
              "...        ...        ...    ...    ...       ...\n",
              "16782   122008          3     20    123  0.162602\n",
              "16783    25383          2      2     18  0.111111\n",
              "16784   122190          3     15     56  0.267857\n",
              "16785   108927          2     16     51  0.313725\n",
              "16786    17310          2     24     75  0.320000\n",
              "\n",
              "[16787 rows x 5 columns]"
            ],
            "text/html": [
              "\n",
              "  <div id=\"df-25bfe573-38b9-4e33-9553-d249fb0ffea1\" class=\"colab-df-container\">\n",
              "    <div>\n",
              "<style scoped>\n",
              "    .dataframe tbody tr th:only-of-type {\n",
              "        vertical-align: middle;\n",
              "    }\n",
              "\n",
              "    .dataframe tbody tr th {\n",
              "        vertical-align: top;\n",
              "    }\n",
              "\n",
              "    .dataframe thead th {\n",
              "        text-align: right;\n",
              "    }\n",
              "</style>\n",
              "<table border=\"1\" class=\"dataframe\">\n",
              "  <thead>\n",
              "    <tr style=\"text-align: right;\">\n",
              "      <th></th>\n",
              "      <th>user_id</th>\n",
              "      <th>exp_group</th>\n",
              "      <th>likes</th>\n",
              "      <th>views</th>\n",
              "      <th>ctr</th>\n",
              "    </tr>\n",
              "  </thead>\n",
              "  <tbody>\n",
              "    <tr>\n",
              "      <th>0</th>\n",
              "      <td>115383</td>\n",
              "      <td>3</td>\n",
              "      <td>38</td>\n",
              "      <td>248</td>\n",
              "      <td>0.153226</td>\n",
              "    </tr>\n",
              "    <tr>\n",
              "      <th>1</th>\n",
              "      <td>10326</td>\n",
              "      <td>3</td>\n",
              "      <td>24</td>\n",
              "      <td>132</td>\n",
              "      <td>0.181818</td>\n",
              "    </tr>\n",
              "    <tr>\n",
              "      <th>2</th>\n",
              "      <td>123580</td>\n",
              "      <td>3</td>\n",
              "      <td>25</td>\n",
              "      <td>122</td>\n",
              "      <td>0.204918</td>\n",
              "    </tr>\n",
              "    <tr>\n",
              "      <th>3</th>\n",
              "      <td>131473</td>\n",
              "      <td>2</td>\n",
              "      <td>19</td>\n",
              "      <td>98</td>\n",
              "      <td>0.193878</td>\n",
              "    </tr>\n",
              "    <tr>\n",
              "      <th>4</th>\n",
              "      <td>23985</td>\n",
              "      <td>2</td>\n",
              "      <td>12</td>\n",
              "      <td>44</td>\n",
              "      <td>0.272727</td>\n",
              "    </tr>\n",
              "    <tr>\n",
              "      <th>...</th>\n",
              "      <td>...</td>\n",
              "      <td>...</td>\n",
              "      <td>...</td>\n",
              "      <td>...</td>\n",
              "      <td>...</td>\n",
              "    </tr>\n",
              "    <tr>\n",
              "      <th>16782</th>\n",
              "      <td>122008</td>\n",
              "      <td>3</td>\n",
              "      <td>20</td>\n",
              "      <td>123</td>\n",
              "      <td>0.162602</td>\n",
              "    </tr>\n",
              "    <tr>\n",
              "      <th>16783</th>\n",
              "      <td>25383</td>\n",
              "      <td>2</td>\n",
              "      <td>2</td>\n",
              "      <td>18</td>\n",
              "      <td>0.111111</td>\n",
              "    </tr>\n",
              "    <tr>\n",
              "      <th>16784</th>\n",
              "      <td>122190</td>\n",
              "      <td>3</td>\n",
              "      <td>15</td>\n",
              "      <td>56</td>\n",
              "      <td>0.267857</td>\n",
              "    </tr>\n",
              "    <tr>\n",
              "      <th>16785</th>\n",
              "      <td>108927</td>\n",
              "      <td>2</td>\n",
              "      <td>16</td>\n",
              "      <td>51</td>\n",
              "      <td>0.313725</td>\n",
              "    </tr>\n",
              "    <tr>\n",
              "      <th>16786</th>\n",
              "      <td>17310</td>\n",
              "      <td>2</td>\n",
              "      <td>24</td>\n",
              "      <td>75</td>\n",
              "      <td>0.320000</td>\n",
              "    </tr>\n",
              "  </tbody>\n",
              "</table>\n",
              "<p>16787 rows × 5 columns</p>\n",
              "</div>\n",
              "    <div class=\"colab-df-buttons\">\n",
              "\n",
              "  <div class=\"colab-df-container\">\n",
              "    <button class=\"colab-df-convert\" onclick=\"convertToInteractive('df-25bfe573-38b9-4e33-9553-d249fb0ffea1')\"\n",
              "            title=\"Convert this dataframe to an interactive table.\"\n",
              "            style=\"display:none;\">\n",
              "\n",
              "  <svg xmlns=\"http://www.w3.org/2000/svg\" height=\"24px\" viewBox=\"0 -960 960 960\">\n",
              "    <path d=\"M120-120v-720h720v720H120Zm60-500h600v-160H180v160Zm220 220h160v-160H400v160Zm0 220h160v-160H400v160ZM180-400h160v-160H180v160Zm440 0h160v-160H620v160ZM180-180h160v-160H180v160Zm440 0h160v-160H620v160Z\"/>\n",
              "  </svg>\n",
              "    </button>\n",
              "\n",
              "  <style>\n",
              "    .colab-df-container {\n",
              "      display:flex;\n",
              "      gap: 12px;\n",
              "    }\n",
              "\n",
              "    .colab-df-convert {\n",
              "      background-color: #E8F0FE;\n",
              "      border: none;\n",
              "      border-radius: 50%;\n",
              "      cursor: pointer;\n",
              "      display: none;\n",
              "      fill: #1967D2;\n",
              "      height: 32px;\n",
              "      padding: 0 0 0 0;\n",
              "      width: 32px;\n",
              "    }\n",
              "\n",
              "    .colab-df-convert:hover {\n",
              "      background-color: #E2EBFA;\n",
              "      box-shadow: 0px 1px 2px rgba(60, 64, 67, 0.3), 0px 1px 3px 1px rgba(60, 64, 67, 0.15);\n",
              "      fill: #174EA6;\n",
              "    }\n",
              "\n",
              "    .colab-df-buttons div {\n",
              "      margin-bottom: 4px;\n",
              "    }\n",
              "\n",
              "    [theme=dark] .colab-df-convert {\n",
              "      background-color: #3B4455;\n",
              "      fill: #D2E3FC;\n",
              "    }\n",
              "\n",
              "    [theme=dark] .colab-df-convert:hover {\n",
              "      background-color: #434B5C;\n",
              "      box-shadow: 0px 1px 3px 1px rgba(0, 0, 0, 0.15);\n",
              "      filter: drop-shadow(0px 1px 2px rgba(0, 0, 0, 0.3));\n",
              "      fill: #FFFFFF;\n",
              "    }\n",
              "  </style>\n",
              "\n",
              "    <script>\n",
              "      const buttonEl =\n",
              "        document.querySelector('#df-25bfe573-38b9-4e33-9553-d249fb0ffea1 button.colab-df-convert');\n",
              "      buttonEl.style.display =\n",
              "        google.colab.kernel.accessAllowed ? 'block' : 'none';\n",
              "\n",
              "      async function convertToInteractive(key) {\n",
              "        const element = document.querySelector('#df-25bfe573-38b9-4e33-9553-d249fb0ffea1');\n",
              "        const dataTable =\n",
              "          await google.colab.kernel.invokeFunction('convertToInteractive',\n",
              "                                                    [key], {});\n",
              "        if (!dataTable) return;\n",
              "\n",
              "        const docLinkHtml = 'Like what you see? Visit the ' +\n",
              "          '<a target=\"_blank\" href=https://colab.research.google.com/notebooks/data_table.ipynb>data table notebook</a>'\n",
              "          + ' to learn more about interactive tables.';\n",
              "        element.innerHTML = '';\n",
              "        dataTable['output_type'] = 'display_data';\n",
              "        await google.colab.output.renderOutput(dataTable, element);\n",
              "        const docLink = document.createElement('div');\n",
              "        docLink.innerHTML = docLinkHtml;\n",
              "        element.appendChild(docLink);\n",
              "      }\n",
              "    </script>\n",
              "  </div>\n",
              "\n",
              "\n",
              "<div id=\"df-b372e81c-16d1-463e-abf6-5a29979f6140\">\n",
              "  <button class=\"colab-df-quickchart\" onclick=\"quickchart('df-b372e81c-16d1-463e-abf6-5a29979f6140')\"\n",
              "            title=\"Suggest charts.\"\n",
              "            style=\"display:none;\">\n",
              "\n",
              "<svg xmlns=\"http://www.w3.org/2000/svg\" height=\"24px\"viewBox=\"0 0 24 24\"\n",
              "     width=\"24px\">\n",
              "    <g>\n",
              "        <path d=\"M19 3H5c-1.1 0-2 .9-2 2v14c0 1.1.9 2 2 2h14c1.1 0 2-.9 2-2V5c0-1.1-.9-2-2-2zM9 17H7v-7h2v7zm4 0h-2V7h2v10zm4 0h-2v-4h2v4z\"/>\n",
              "    </g>\n",
              "</svg>\n",
              "  </button>\n",
              "\n",
              "<style>\n",
              "  .colab-df-quickchart {\n",
              "    background-color: #E8F0FE;\n",
              "    border: none;\n",
              "    border-radius: 50%;\n",
              "    cursor: pointer;\n",
              "    display: none;\n",
              "    fill: #1967D2;\n",
              "    height: 32px;\n",
              "    padding: 0 0 0 0;\n",
              "    width: 32px;\n",
              "  }\n",
              "\n",
              "  .colab-df-quickchart:hover {\n",
              "    background-color: #E2EBFA;\n",
              "    box-shadow: 0px 1px 2px rgba(60, 64, 67, 0.3), 0px 1px 3px 1px rgba(60, 64, 67, 0.15);\n",
              "    fill: #174EA6;\n",
              "  }\n",
              "\n",
              "  [theme=dark] .colab-df-quickchart {\n",
              "    background-color: #3B4455;\n",
              "    fill: #D2E3FC;\n",
              "  }\n",
              "\n",
              "  [theme=dark] .colab-df-quickchart:hover {\n",
              "    background-color: #434B5C;\n",
              "    box-shadow: 0px 1px 3px 1px rgba(0, 0, 0, 0.15);\n",
              "    filter: drop-shadow(0px 1px 2px rgba(0, 0, 0, 0.3));\n",
              "    fill: #FFFFFF;\n",
              "  }\n",
              "</style>\n",
              "\n",
              "  <script>\n",
              "    async function quickchart(key) {\n",
              "      const charts = await google.colab.kernel.invokeFunction(\n",
              "          'suggestCharts', [key], {});\n",
              "    }\n",
              "    (() => {\n",
              "      let quickchartButtonEl =\n",
              "        document.querySelector('#df-b372e81c-16d1-463e-abf6-5a29979f6140 button');\n",
              "      quickchartButtonEl.style.display =\n",
              "        google.colab.kernel.accessAllowed ? 'block' : 'none';\n",
              "    })();\n",
              "  </script>\n",
              "</div>\n",
              "    </div>\n",
              "  </div>\n"
            ]
          },
          "metadata": {},
          "execution_count": 7
        }
      ],
      "source": [
        " # датафрейм для A/A теста с ctr для каждого пользователя\n",
        "df_aa"
      ]
    },
    {
      "cell_type": "code",
      "execution_count": 8,
      "id": "b13c5f49-adbb-4a3a-a027-815587e9f6d7",
      "metadata": {
        "colab": {
          "base_uri": "https://localhost:8080/",
          "height": 143
        },
        "id": "b13c5f49-adbb-4a3a-a027-815587e9f6d7",
        "outputId": "fc2fcd61-114a-43d4-f4c3-7124a8d63c85"
      },
      "outputs": [
        {
          "output_type": "execute_result",
          "data": {
            "text/plain": [
              "           user_id  likes  views   ctr\n",
              "exp_group                             \n",
              "2             8362   8362   8362  8362\n",
              "3             8425   8425   8425  8425"
            ],
            "text/html": [
              "\n",
              "  <div id=\"df-c66c7a16-9453-47bf-a1b2-4e8efe257849\" class=\"colab-df-container\">\n",
              "    <div>\n",
              "<style scoped>\n",
              "    .dataframe tbody tr th:only-of-type {\n",
              "        vertical-align: middle;\n",
              "    }\n",
              "\n",
              "    .dataframe tbody tr th {\n",
              "        vertical-align: top;\n",
              "    }\n",
              "\n",
              "    .dataframe thead th {\n",
              "        text-align: right;\n",
              "    }\n",
              "</style>\n",
              "<table border=\"1\" class=\"dataframe\">\n",
              "  <thead>\n",
              "    <tr style=\"text-align: right;\">\n",
              "      <th></th>\n",
              "      <th>user_id</th>\n",
              "      <th>likes</th>\n",
              "      <th>views</th>\n",
              "      <th>ctr</th>\n",
              "    </tr>\n",
              "    <tr>\n",
              "      <th>exp_group</th>\n",
              "      <th></th>\n",
              "      <th></th>\n",
              "      <th></th>\n",
              "      <th></th>\n",
              "    </tr>\n",
              "  </thead>\n",
              "  <tbody>\n",
              "    <tr>\n",
              "      <th>2</th>\n",
              "      <td>8362</td>\n",
              "      <td>8362</td>\n",
              "      <td>8362</td>\n",
              "      <td>8362</td>\n",
              "    </tr>\n",
              "    <tr>\n",
              "      <th>3</th>\n",
              "      <td>8425</td>\n",
              "      <td>8425</td>\n",
              "      <td>8425</td>\n",
              "      <td>8425</td>\n",
              "    </tr>\n",
              "  </tbody>\n",
              "</table>\n",
              "</div>\n",
              "    <div class=\"colab-df-buttons\">\n",
              "\n",
              "  <div class=\"colab-df-container\">\n",
              "    <button class=\"colab-df-convert\" onclick=\"convertToInteractive('df-c66c7a16-9453-47bf-a1b2-4e8efe257849')\"\n",
              "            title=\"Convert this dataframe to an interactive table.\"\n",
              "            style=\"display:none;\">\n",
              "\n",
              "  <svg xmlns=\"http://www.w3.org/2000/svg\" height=\"24px\" viewBox=\"0 -960 960 960\">\n",
              "    <path d=\"M120-120v-720h720v720H120Zm60-500h600v-160H180v160Zm220 220h160v-160H400v160Zm0 220h160v-160H400v160ZM180-400h160v-160H180v160Zm440 0h160v-160H620v160ZM180-180h160v-160H180v160Zm440 0h160v-160H620v160Z\"/>\n",
              "  </svg>\n",
              "    </button>\n",
              "\n",
              "  <style>\n",
              "    .colab-df-container {\n",
              "      display:flex;\n",
              "      gap: 12px;\n",
              "    }\n",
              "\n",
              "    .colab-df-convert {\n",
              "      background-color: #E8F0FE;\n",
              "      border: none;\n",
              "      border-radius: 50%;\n",
              "      cursor: pointer;\n",
              "      display: none;\n",
              "      fill: #1967D2;\n",
              "      height: 32px;\n",
              "      padding: 0 0 0 0;\n",
              "      width: 32px;\n",
              "    }\n",
              "\n",
              "    .colab-df-convert:hover {\n",
              "      background-color: #E2EBFA;\n",
              "      box-shadow: 0px 1px 2px rgba(60, 64, 67, 0.3), 0px 1px 3px 1px rgba(60, 64, 67, 0.15);\n",
              "      fill: #174EA6;\n",
              "    }\n",
              "\n",
              "    .colab-df-buttons div {\n",
              "      margin-bottom: 4px;\n",
              "    }\n",
              "\n",
              "    [theme=dark] .colab-df-convert {\n",
              "      background-color: #3B4455;\n",
              "      fill: #D2E3FC;\n",
              "    }\n",
              "\n",
              "    [theme=dark] .colab-df-convert:hover {\n",
              "      background-color: #434B5C;\n",
              "      box-shadow: 0px 1px 3px 1px rgba(0, 0, 0, 0.15);\n",
              "      filter: drop-shadow(0px 1px 2px rgba(0, 0, 0, 0.3));\n",
              "      fill: #FFFFFF;\n",
              "    }\n",
              "  </style>\n",
              "\n",
              "    <script>\n",
              "      const buttonEl =\n",
              "        document.querySelector('#df-c66c7a16-9453-47bf-a1b2-4e8efe257849 button.colab-df-convert');\n",
              "      buttonEl.style.display =\n",
              "        google.colab.kernel.accessAllowed ? 'block' : 'none';\n",
              "\n",
              "      async function convertToInteractive(key) {\n",
              "        const element = document.querySelector('#df-c66c7a16-9453-47bf-a1b2-4e8efe257849');\n",
              "        const dataTable =\n",
              "          await google.colab.kernel.invokeFunction('convertToInteractive',\n",
              "                                                    [key], {});\n",
              "        if (!dataTable) return;\n",
              "\n",
              "        const docLinkHtml = 'Like what you see? Visit the ' +\n",
              "          '<a target=\"_blank\" href=https://colab.research.google.com/notebooks/data_table.ipynb>data table notebook</a>'\n",
              "          + ' to learn more about interactive tables.';\n",
              "        element.innerHTML = '';\n",
              "        dataTable['output_type'] = 'display_data';\n",
              "        await google.colab.output.renderOutput(dataTable, element);\n",
              "        const docLink = document.createElement('div');\n",
              "        docLink.innerHTML = docLinkHtml;\n",
              "        element.appendChild(docLink);\n",
              "      }\n",
              "    </script>\n",
              "  </div>\n",
              "\n",
              "    </div>\n",
              "  </div>\n"
            ]
          },
          "metadata": {},
          "execution_count": 8
        }
      ],
      "source": [
        " # проверим группы на размеры\n",
        "df_aa.groupby('exp_group').count()"
      ]
    },
    {
      "cell_type": "code",
      "execution_count": 9,
      "id": "a4b10ac8-6319-430f-b481-777b6986b886",
      "metadata": {
        "colab": {
          "base_uri": "https://localhost:8080/",
          "height": 858
        },
        "id": "a4b10ac8-6319-430f-b481-777b6986b886",
        "outputId": "3ef74f3e-93b5-47e0-e31d-abd17b66a74d"
      },
      "outputs": [
        {
          "output_type": "display_data",
          "data": {
            "text/plain": [
              "<Figure size 1000x1000 with 1 Axes>"
            ],
            "image/png": "[encoded data removed]"
          },
          "metadata": {}
        }
      ],
      "source": [
        "# Установим размер графиков\n",
        "sns.set(rc={'figure.figsize':(10, 10)})\n",
        "groups = sns.histplot(data=df_aa,\n",
        "                      x='ctr',\n",
        "                      hue='exp_group',\n",
        "                      palette=['y', 'b'],\n",
        "                      kde=False,\n",
        "                      alpha=0.5)"
      ]
    },
    {
      "cell_type": "raw",
      "id": "88ab123e-cb21-4c67-8850-cba786c88a96",
      "metadata": {
        "id": "88ab123e-cb21-4c67-8850-cba786c88a96"
      },
      "source": [
        "Расределение экспериментальных групп практически совпадает"
      ]
    },
    {
      "cell_type": "code",
      "execution_count": 10,
      "id": "5dabafab-6afd-4927-84e1-2104847df5f6",
      "metadata": {
        "colab": {
          "base_uri": "https://localhost:8080/",
          "height": 852
        },
        "id": "5dabafab-6afd-4927-84e1-2104847df5f6",
        "outputId": "0ccfb40b-ec15-4245-f164-65d059976bef"
      },
      "outputs": [
        {
          "output_type": "execute_result",
          "data": {
            "text/plain": [
              "<Axes: ylabel='Count'>"
            ]
          },
          "metadata": {},
          "execution_count": 10
        },
        {
          "output_type": "display_data",
          "data": {
            "text/plain": [
              "<Figure size 1000x1000 with 1 Axes>"
            ],
            "image/png": "[encoded data removed]"
          },
          "metadata": {}
        }
      ],
      "source": [
        "# Проведем бутстрап\n",
        "\n",
        "def bootstrap_aa(n_bootstrap: int = 10_000,\n",
        "                 B: int = 500,\n",
        ") -> List:\n",
        "    pvalues = []\n",
        "    for _ in range(n_bootstrap):\n",
        "        group_2 = df_aa[df_aa['exp_group'] == 2]['ctr'].sample(B, replace=False).tolist()\n",
        "        group_3 = df_aa[df_aa['exp_group'] == 3]['ctr'].sample(B, replace=False).tolist()\n",
        "        pvalues.append(stats.ttest_ind(group_2, group_3, equal_var=False)[1])\n",
        "\n",
        "    return pvalues\n",
        "\n",
        "pvalues = bootstrap_aa()\n",
        "sns.histplot(pvalues)"
      ]
    },
    {
      "cell_type": "code",
      "source": [
        "sum(np.array(pvalues)<0.05)/10000"
      ],
      "metadata": {
        "colab": {
          "base_uri": "https://localhost:8080/"
        },
        "id": "bqfd_iC0Vtfo",
        "outputId": "24995cca-c5ed-4cf0-e46a-21105d72845b"
      },
      "id": "bqfd_iC0Vtfo",
      "execution_count": 11,
      "outputs": [
        {
          "output_type": "execute_result",
          "data": {
            "text/plain": [
              "0.0475"
            ]
          },
          "metadata": {},
          "execution_count": 11
        }
      ]
    },
    {
      "cell_type": "raw",
      "id": "394619df-8f54-439c-aff4-ccbea84f004f",
      "metadata": {
        "id": "394619df-8f54-439c-aff4-ccbea84f004f"
      },
      "source": [
        "Вывод:\n",
        "Статистически значимые различия получаем в 4,8% , что соответствует ошибке I рода.\n",
        "Система сплитования на группы работает корректно."
      ]
    }
  ],
  "metadata": {
    "kernelspec": {
      "display_name": "Python 3 (ipykernel)",
      "language": "python",
      "name": "python3"
    },
    "language_info": {
      "codemirror_mode": {
        "name": "ipython",
        "version": 3
      },
      "file_extension": ".py",
      "mimetype": "text/x-python",
      "name": "python",
      "nbconvert_exporter": "python",
      "pygments_lexer": "ipython3",
      "version": "3.8.10"
    },
    "colab": {
      "provenance": []
    }
  },
  "nbformat": 4,
  "nbformat_minor": 5
}